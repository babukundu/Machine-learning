{
 "cells": [
  {
   "cell_type": "markdown",
   "id": "f972ca29",
   "metadata": {},
   "source": [
    "---\n",
    "Title: \"CITS 5508-Lab 02\"\n",
    "Author: \"Ronjon Kundu (23215183)\"\n",
    "Date: \"24/3/2022\"\n",
    "\n",
    "---"
   ]
  },
  {
   "cell_type": "markdown",
   "id": "367847cd",
   "metadata": {},
   "source": [
    "### Introduction\n",
    "Data is given named training.csv and testing.csv. The training set (training.csv) contains 325 instances instances of multivariate remote sensing data of some forest areas in Japan. There are 4 different forest types labelled in the fifirst column (the column heading is ‘class’), as described in the link above. The test set (testing.csv) has the same format as training.csv and contains 198 test instances."
   ]
  },
  {
   "cell_type": "code",
   "execution_count": 2,
   "id": "3cb0124d",
   "metadata": {},
   "outputs": [
    {
     "data": {
      "text/html": [
       "<div>\n",
       "<style scoped>\n",
       "    .dataframe tbody tr th:only-of-type {\n",
       "        vertical-align: middle;\n",
       "    }\n",
       "\n",
       "    .dataframe tbody tr th {\n",
       "        vertical-align: top;\n",
       "    }\n",
       "\n",
       "    .dataframe thead th {\n",
       "        text-align: right;\n",
       "    }\n",
       "</style>\n",
       "<table border=\"1\" class=\"dataframe\">\n",
       "  <thead>\n",
       "    <tr style=\"text-align: right;\">\n",
       "      <th></th>\n",
       "      <th>class</th>\n",
       "      <th>b1</th>\n",
       "      <th>b2</th>\n",
       "      <th>b3</th>\n",
       "      <th>b4</th>\n",
       "      <th>b5</th>\n",
       "      <th>b6</th>\n",
       "      <th>b7</th>\n",
       "      <th>b8</th>\n",
       "      <th>b9</th>\n",
       "      <th>...</th>\n",
       "      <th>pred_minus_obs_H_b9</th>\n",
       "      <th>pred_minus_obs_S_b1</th>\n",
       "      <th>pred_minus_obs_S_b2</th>\n",
       "      <th>pred_minus_obs_S_b3</th>\n",
       "      <th>pred_minus_obs_S_b4</th>\n",
       "      <th>pred_minus_obs_S_b5</th>\n",
       "      <th>pred_minus_obs_S_b6</th>\n",
       "      <th>pred_minus_obs_S_b7</th>\n",
       "      <th>pred_minus_obs_S_b8</th>\n",
       "      <th>pred_minus_obs_S_b9</th>\n",
       "    </tr>\n",
       "  </thead>\n",
       "  <tbody>\n",
       "    <tr>\n",
       "      <th>0</th>\n",
       "      <td>d</td>\n",
       "      <td>67</td>\n",
       "      <td>51</td>\n",
       "      <td>68</td>\n",
       "      <td>115</td>\n",
       "      <td>69</td>\n",
       "      <td>111</td>\n",
       "      <td>136</td>\n",
       "      <td>31</td>\n",
       "      <td>67</td>\n",
       "      <td>...</td>\n",
       "      <td>-9.17</td>\n",
       "      <td>-18.27</td>\n",
       "      <td>-1.80</td>\n",
       "      <td>-6.32</td>\n",
       "      <td>-20.88</td>\n",
       "      <td>-1.63</td>\n",
       "      <td>-6.13</td>\n",
       "      <td>-22.56</td>\n",
       "      <td>-5.53</td>\n",
       "      <td>-8.11</td>\n",
       "    </tr>\n",
       "    <tr>\n",
       "      <th>1</th>\n",
       "      <td>s</td>\n",
       "      <td>67</td>\n",
       "      <td>28</td>\n",
       "      <td>51</td>\n",
       "      <td>99</td>\n",
       "      <td>50</td>\n",
       "      <td>97</td>\n",
       "      <td>82</td>\n",
       "      <td>26</td>\n",
       "      <td>59</td>\n",
       "      <td>...</td>\n",
       "      <td>-2.25</td>\n",
       "      <td>-20.13</td>\n",
       "      <td>-2.11</td>\n",
       "      <td>-6.35</td>\n",
       "      <td>-21.94</td>\n",
       "      <td>-1.22</td>\n",
       "      <td>-6.13</td>\n",
       "      <td>-22.20</td>\n",
       "      <td>-3.41</td>\n",
       "      <td>-6.57</td>\n",
       "    </tr>\n",
       "    <tr>\n",
       "      <th>2</th>\n",
       "      <td>s</td>\n",
       "      <td>63</td>\n",
       "      <td>26</td>\n",
       "      <td>50</td>\n",
       "      <td>95</td>\n",
       "      <td>49</td>\n",
       "      <td>91</td>\n",
       "      <td>81</td>\n",
       "      <td>26</td>\n",
       "      <td>57</td>\n",
       "      <td>...</td>\n",
       "      <td>-0.44</td>\n",
       "      <td>-17.64</td>\n",
       "      <td>-1.81</td>\n",
       "      <td>-4.70</td>\n",
       "      <td>-19.39</td>\n",
       "      <td>-0.65</td>\n",
       "      <td>-5.01</td>\n",
       "      <td>-20.89</td>\n",
       "      <td>-3.96</td>\n",
       "      <td>-6.85</td>\n",
       "    </tr>\n",
       "    <tr>\n",
       "      <th>3</th>\n",
       "      <td>d</td>\n",
       "      <td>63</td>\n",
       "      <td>42</td>\n",
       "      <td>63</td>\n",
       "      <td>97</td>\n",
       "      <td>66</td>\n",
       "      <td>108</td>\n",
       "      <td>111</td>\n",
       "      <td>28</td>\n",
       "      <td>59</td>\n",
       "      <td>...</td>\n",
       "      <td>-2.34</td>\n",
       "      <td>-20.20</td>\n",
       "      <td>-1.89</td>\n",
       "      <td>-5.47</td>\n",
       "      <td>-21.65</td>\n",
       "      <td>-0.99</td>\n",
       "      <td>-5.71</td>\n",
       "      <td>-22.19</td>\n",
       "      <td>-3.41</td>\n",
       "      <td>-6.52</td>\n",
       "    </tr>\n",
       "    <tr>\n",
       "      <th>4</th>\n",
       "      <td>s</td>\n",
       "      <td>46</td>\n",
       "      <td>27</td>\n",
       "      <td>50</td>\n",
       "      <td>83</td>\n",
       "      <td>51</td>\n",
       "      <td>90</td>\n",
       "      <td>76</td>\n",
       "      <td>26</td>\n",
       "      <td>56</td>\n",
       "      <td>...</td>\n",
       "      <td>1.25</td>\n",
       "      <td>-18.62</td>\n",
       "      <td>-2.17</td>\n",
       "      <td>-7.11</td>\n",
       "      <td>-21.12</td>\n",
       "      <td>-1.56</td>\n",
       "      <td>-6.35</td>\n",
       "      <td>-22.19</td>\n",
       "      <td>-4.45</td>\n",
       "      <td>-7.32</td>\n",
       "    </tr>\n",
       "  </tbody>\n",
       "</table>\n",
       "<p>5 rows × 28 columns</p>\n",
       "</div>"
      ],
      "text/plain": [
       "  class  b1  b2  b3   b4  b5   b6   b7  b8  b9  ...  pred_minus_obs_H_b9  \\\n",
       "0     d  67  51  68  115  69  111  136  31  67  ...                -9.17   \n",
       "1     s  67  28  51   99  50   97   82  26  59  ...                -2.25   \n",
       "2     s  63  26  50   95  49   91   81  26  57  ...                -0.44   \n",
       "3     d  63  42  63   97  66  108  111  28  59  ...                -2.34   \n",
       "4     s  46  27  50   83  51   90   76  26  56  ...                 1.25   \n",
       "\n",
       "   pred_minus_obs_S_b1  pred_minus_obs_S_b2  pred_minus_obs_S_b3  \\\n",
       "0               -18.27                -1.80                -6.32   \n",
       "1               -20.13                -2.11                -6.35   \n",
       "2               -17.64                -1.81                -4.70   \n",
       "3               -20.20                -1.89                -5.47   \n",
       "4               -18.62                -2.17                -7.11   \n",
       "\n",
       "   pred_minus_obs_S_b4  pred_minus_obs_S_b5  pred_minus_obs_S_b6  \\\n",
       "0               -20.88                -1.63                -6.13   \n",
       "1               -21.94                -1.22                -6.13   \n",
       "2               -19.39                -0.65                -5.01   \n",
       "3               -21.65                -0.99                -5.71   \n",
       "4               -21.12                -1.56                -6.35   \n",
       "\n",
       "   pred_minus_obs_S_b7  pred_minus_obs_S_b8  pred_minus_obs_S_b9  \n",
       "0               -22.56                -5.53                -8.11  \n",
       "1               -22.20                -3.41                -6.57  \n",
       "2               -20.89                -3.96                -6.85  \n",
       "3               -22.19                -3.41                -6.52  \n",
       "4               -22.19                -4.45                -7.32  \n",
       "\n",
       "[5 rows x 28 columns]"
      ]
     },
     "execution_count": 2,
     "metadata": {},
     "output_type": "execute_result"
    }
   ],
   "source": [
    "### Import necessary libraries, setting working directory and fect the data.\n",
    "import os\n",
    "import tarfile\n",
    "import pandas as pd\n",
    "\n",
    "from six.moves import urllib\n",
    "\n",
    "DATA_PATH = \"D:/uwa/Machinelearning/Lab02/\"\n",
    "def load_train_data(data_path=DATA_PATH): # a function defined for load train data\n",
    " csv_path = os.path.join(data_path, \"training.csv\")\n",
    " return pd.read_csv(csv_path)\n",
    "training = load_train_data()\n",
    "training.head()"
   ]
  },
  {
   "cell_type": "markdown",
   "id": "f210763f",
   "metadata": {},
   "source": [
    "tarining.csv file has 28 columns and 325 rows."
   ]
  },
  {
   "cell_type": "code",
   "execution_count": 3,
   "id": "19b41421",
   "metadata": {},
   "outputs": [
    {
     "data": {
      "text/html": [
       "<div>\n",
       "<style scoped>\n",
       "    .dataframe tbody tr th:only-of-type {\n",
       "        vertical-align: middle;\n",
       "    }\n",
       "\n",
       "    .dataframe tbody tr th {\n",
       "        vertical-align: top;\n",
       "    }\n",
       "\n",
       "    .dataframe thead th {\n",
       "        text-align: right;\n",
       "    }\n",
       "</style>\n",
       "<table border=\"1\" class=\"dataframe\">\n",
       "  <thead>\n",
       "    <tr style=\"text-align: right;\">\n",
       "      <th></th>\n",
       "      <th>class</th>\n",
       "      <th>b1</th>\n",
       "      <th>b2</th>\n",
       "      <th>b3</th>\n",
       "      <th>b4</th>\n",
       "      <th>b5</th>\n",
       "      <th>b6</th>\n",
       "      <th>b7</th>\n",
       "      <th>b8</th>\n",
       "      <th>b9</th>\n",
       "      <th>...</th>\n",
       "      <th>pred_minus_obs_H_b9</th>\n",
       "      <th>pred_minus_obs_S_b1</th>\n",
       "      <th>pred_minus_obs_S_b2</th>\n",
       "      <th>pred_minus_obs_S_b3</th>\n",
       "      <th>pred_minus_obs_S_b4</th>\n",
       "      <th>pred_minus_obs_S_b5</th>\n",
       "      <th>pred_minus_obs_S_b6</th>\n",
       "      <th>pred_minus_obs_S_b7</th>\n",
       "      <th>pred_minus_obs_S_b8</th>\n",
       "      <th>pred_minus_obs_S_b9</th>\n",
       "    </tr>\n",
       "  </thead>\n",
       "  <tbody>\n",
       "    <tr>\n",
       "      <th>0</th>\n",
       "      <td>d</td>\n",
       "      <td>39</td>\n",
       "      <td>36</td>\n",
       "      <td>57</td>\n",
       "      <td>91</td>\n",
       "      <td>59</td>\n",
       "      <td>101</td>\n",
       "      <td>93</td>\n",
       "      <td>27</td>\n",
       "      <td>60</td>\n",
       "      <td>...</td>\n",
       "      <td>-2.36</td>\n",
       "      <td>-18.41</td>\n",
       "      <td>-1.88</td>\n",
       "      <td>-6.43</td>\n",
       "      <td>-21.03</td>\n",
       "      <td>-1.60</td>\n",
       "      <td>-6.18</td>\n",
       "      <td>-22.50</td>\n",
       "      <td>-5.20</td>\n",
       "      <td>-7.86</td>\n",
       "    </tr>\n",
       "    <tr>\n",
       "      <th>1</th>\n",
       "      <td>h</td>\n",
       "      <td>84</td>\n",
       "      <td>30</td>\n",
       "      <td>57</td>\n",
       "      <td>112</td>\n",
       "      <td>51</td>\n",
       "      <td>98</td>\n",
       "      <td>92</td>\n",
       "      <td>26</td>\n",
       "      <td>62</td>\n",
       "      <td>...</td>\n",
       "      <td>-2.26</td>\n",
       "      <td>-16.27</td>\n",
       "      <td>-1.95</td>\n",
       "      <td>-6.25</td>\n",
       "      <td>-18.79</td>\n",
       "      <td>-1.99</td>\n",
       "      <td>-6.18</td>\n",
       "      <td>-23.41</td>\n",
       "      <td>-8.87</td>\n",
       "      <td>-10.83</td>\n",
       "    </tr>\n",
       "    <tr>\n",
       "      <th>2</th>\n",
       "      <td>s</td>\n",
       "      <td>53</td>\n",
       "      <td>25</td>\n",
       "      <td>49</td>\n",
       "      <td>99</td>\n",
       "      <td>51</td>\n",
       "      <td>93</td>\n",
       "      <td>84</td>\n",
       "      <td>26</td>\n",
       "      <td>58</td>\n",
       "      <td>...</td>\n",
       "      <td>-1.46</td>\n",
       "      <td>-15.92</td>\n",
       "      <td>-1.79</td>\n",
       "      <td>-4.64</td>\n",
       "      <td>-17.73</td>\n",
       "      <td>-0.48</td>\n",
       "      <td>-4.69</td>\n",
       "      <td>-19.97</td>\n",
       "      <td>-4.10</td>\n",
       "      <td>-7.07</td>\n",
       "    </tr>\n",
       "    <tr>\n",
       "      <th>3</th>\n",
       "      <td>s</td>\n",
       "      <td>59</td>\n",
       "      <td>26</td>\n",
       "      <td>49</td>\n",
       "      <td>103</td>\n",
       "      <td>47</td>\n",
       "      <td>92</td>\n",
       "      <td>82</td>\n",
       "      <td>25</td>\n",
       "      <td>56</td>\n",
       "      <td>...</td>\n",
       "      <td>2.68</td>\n",
       "      <td>-13.77</td>\n",
       "      <td>-2.53</td>\n",
       "      <td>-6.34</td>\n",
       "      <td>-22.03</td>\n",
       "      <td>-2.34</td>\n",
       "      <td>-6.60</td>\n",
       "      <td>-27.10</td>\n",
       "      <td>-7.99</td>\n",
       "      <td>-10.81</td>\n",
       "    </tr>\n",
       "    <tr>\n",
       "      <th>4</th>\n",
       "      <td>d</td>\n",
       "      <td>57</td>\n",
       "      <td>49</td>\n",
       "      <td>66</td>\n",
       "      <td>103</td>\n",
       "      <td>64</td>\n",
       "      <td>106</td>\n",
       "      <td>114</td>\n",
       "      <td>28</td>\n",
       "      <td>59</td>\n",
       "      <td>...</td>\n",
       "      <td>-2.94</td>\n",
       "      <td>-21.74</td>\n",
       "      <td>-1.64</td>\n",
       "      <td>-4.62</td>\n",
       "      <td>-23.74</td>\n",
       "      <td>-0.85</td>\n",
       "      <td>-5.50</td>\n",
       "      <td>-22.83</td>\n",
       "      <td>-2.74</td>\n",
       "      <td>-5.84</td>\n",
       "    </tr>\n",
       "  </tbody>\n",
       "</table>\n",
       "<p>5 rows × 28 columns</p>\n",
       "</div>"
      ],
      "text/plain": [
       "  class  b1  b2  b3   b4  b5   b6   b7  b8  b9  ...  pred_minus_obs_H_b9  \\\n",
       "0     d  39  36  57   91  59  101   93  27  60  ...                -2.36   \n",
       "1     h  84  30  57  112  51   98   92  26  62  ...                -2.26   \n",
       "2     s  53  25  49   99  51   93   84  26  58  ...                -1.46   \n",
       "3     s  59  26  49  103  47   92   82  25  56  ...                 2.68   \n",
       "4     d  57  49  66  103  64  106  114  28  59  ...                -2.94   \n",
       "\n",
       "   pred_minus_obs_S_b1  pred_minus_obs_S_b2  pred_minus_obs_S_b3  \\\n",
       "0               -18.41                -1.88                -6.43   \n",
       "1               -16.27                -1.95                -6.25   \n",
       "2               -15.92                -1.79                -4.64   \n",
       "3               -13.77                -2.53                -6.34   \n",
       "4               -21.74                -1.64                -4.62   \n",
       "\n",
       "   pred_minus_obs_S_b4  pred_minus_obs_S_b5  pred_minus_obs_S_b6  \\\n",
       "0               -21.03                -1.60                -6.18   \n",
       "1               -18.79                -1.99                -6.18   \n",
       "2               -17.73                -0.48                -4.69   \n",
       "3               -22.03                -2.34                -6.60   \n",
       "4               -23.74                -0.85                -5.50   \n",
       "\n",
       "   pred_minus_obs_S_b7  pred_minus_obs_S_b8  pred_minus_obs_S_b9  \n",
       "0               -22.50                -5.20                -7.86  \n",
       "1               -23.41                -8.87               -10.83  \n",
       "2               -19.97                -4.10                -7.07  \n",
       "3               -27.10                -7.99               -10.81  \n",
       "4               -22.83                -2.74                -5.84  \n",
       "\n",
       "[5 rows x 28 columns]"
      ]
     },
     "execution_count": 3,
     "metadata": {},
     "output_type": "execute_result"
    }
   ],
   "source": [
    "def load_test_data(data_path=DATA_PATH): # a function defined for load test data\n",
    " csv_path = os.path.join(data_path, \"testing.csv\")\n",
    " return pd.read_csv(csv_path)\n",
    "testing = load_test_data()\n",
    "testing.head()"
   ]
  },
  {
   "cell_type": "markdown",
   "id": "64687800",
   "metadata": {},
   "source": [
    "like tarining.csv file testing.csv file has 28 columns and 198 rows."
   ]
  },
  {
   "cell_type": "markdown",
   "id": "494a8afa",
   "metadata": {},
   "source": [
    "##### Information of columns of testing data"
   ]
  },
  {
   "cell_type": "code",
   "execution_count": 4,
   "id": "931c8341",
   "metadata": {},
   "outputs": [
    {
     "name": "stdout",
     "output_type": "stream",
     "text": [
      "<class 'pandas.core.frame.DataFrame'>\n",
      "RangeIndex: 198 entries, 0 to 197\n",
      "Data columns (total 28 columns):\n",
      " #   Column               Non-Null Count  Dtype  \n",
      "---  ------               --------------  -----  \n",
      " 0   class                198 non-null    object \n",
      " 1   b1                   198 non-null    int64  \n",
      " 2   b2                   198 non-null    int64  \n",
      " 3   b3                   198 non-null    int64  \n",
      " 4   b4                   198 non-null    int64  \n",
      " 5   b5                   198 non-null    int64  \n",
      " 6   b6                   198 non-null    int64  \n",
      " 7   b7                   198 non-null    int64  \n",
      " 8   b8                   198 non-null    int64  \n",
      " 9   b9                   198 non-null    int64  \n",
      " 10  pred_minus_obs_H_b1  198 non-null    float64\n",
      " 11  pred_minus_obs_H_b2  198 non-null    float64\n",
      " 12  pred_minus_obs_H_b3  198 non-null    float64\n",
      " 13  pred_minus_obs_H_b4  198 non-null    float64\n",
      " 14  pred_minus_obs_H_b5  198 non-null    float64\n",
      " 15  pred_minus_obs_H_b6  198 non-null    float64\n",
      " 16  pred_minus_obs_H_b7  198 non-null    float64\n",
      " 17  pred_minus_obs_H_b8  198 non-null    float64\n",
      " 18  pred_minus_obs_H_b9  198 non-null    float64\n",
      " 19  pred_minus_obs_S_b1  198 non-null    float64\n",
      " 20  pred_minus_obs_S_b2  198 non-null    float64\n",
      " 21  pred_minus_obs_S_b3  198 non-null    float64\n",
      " 22  pred_minus_obs_S_b4  198 non-null    float64\n",
      " 23  pred_minus_obs_S_b5  198 non-null    float64\n",
      " 24  pred_minus_obs_S_b6  198 non-null    float64\n",
      " 25  pred_minus_obs_S_b7  198 non-null    float64\n",
      " 26  pred_minus_obs_S_b8  198 non-null    float64\n",
      " 27  pred_minus_obs_S_b9  198 non-null    float64\n",
      "dtypes: float64(18), int64(9), object(1)\n",
      "memory usage: 43.4+ KB\n"
     ]
    }
   ],
   "source": [
    "testing.info()"
   ]
  },
  {
   "cell_type": "markdown",
   "id": "4b718df5",
   "metadata": {},
   "source": [
    "##### Information of columns of traingb data"
   ]
  },
  {
   "cell_type": "code",
   "execution_count": 5,
   "id": "31f2472c",
   "metadata": {},
   "outputs": [
    {
     "name": "stdout",
     "output_type": "stream",
     "text": [
      "<class 'pandas.core.frame.DataFrame'>\n",
      "RangeIndex: 325 entries, 0 to 324\n",
      "Data columns (total 28 columns):\n",
      " #   Column               Non-Null Count  Dtype  \n",
      "---  ------               --------------  -----  \n",
      " 0   class                325 non-null    object \n",
      " 1   b1                   325 non-null    int64  \n",
      " 2   b2                   325 non-null    int64  \n",
      " 3   b3                   325 non-null    int64  \n",
      " 4   b4                   325 non-null    int64  \n",
      " 5   b5                   325 non-null    int64  \n",
      " 6   b6                   325 non-null    int64  \n",
      " 7   b7                   325 non-null    int64  \n",
      " 8   b8                   325 non-null    int64  \n",
      " 9   b9                   325 non-null    int64  \n",
      " 10  pred_minus_obs_H_b1  325 non-null    float64\n",
      " 11  pred_minus_obs_H_b2  325 non-null    float64\n",
      " 12  pred_minus_obs_H_b3  325 non-null    float64\n",
      " 13  pred_minus_obs_H_b4  325 non-null    float64\n",
      " 14  pred_minus_obs_H_b5  325 non-null    float64\n",
      " 15  pred_minus_obs_H_b6  325 non-null    float64\n",
      " 16  pred_minus_obs_H_b7  325 non-null    float64\n",
      " 17  pred_minus_obs_H_b8  325 non-null    float64\n",
      " 18  pred_minus_obs_H_b9  325 non-null    float64\n",
      " 19  pred_minus_obs_S_b1  325 non-null    float64\n",
      " 20  pred_minus_obs_S_b2  325 non-null    float64\n",
      " 21  pred_minus_obs_S_b3  325 non-null    float64\n",
      " 22  pred_minus_obs_S_b4  325 non-null    float64\n",
      " 23  pred_minus_obs_S_b5  325 non-null    float64\n",
      " 24  pred_minus_obs_S_b6  325 non-null    float64\n",
      " 25  pred_minus_obs_S_b7  325 non-null    float64\n",
      " 26  pred_minus_obs_S_b8  325 non-null    float64\n",
      " 27  pred_minus_obs_S_b9  325 non-null    float64\n",
      "dtypes: float64(18), int64(9), object(1)\n",
      "memory usage: 71.2+ KB\n"
     ]
    }
   ],
   "source": [
    "training.info()"
   ]
  },
  {
   "cell_type": "markdown",
   "id": "3e8a6688",
   "metadata": {},
   "source": [
    "#### Plotting traning data."
   ]
  },
  {
   "cell_type": "code",
   "execution_count": 6,
   "id": "e8de9945",
   "metadata": {},
   "outputs": [
    {
     "data": {
      "image/png": "[encoded data removed]",
      "text/plain": [
       "<Figure size 1440x1080 with 30 Axes>"
      ]
     },
     "metadata": {
      "needs_background": "light"
     },
     "output_type": "display_data"
    }
   ],
   "source": [
    "%matplotlib inline \n",
    "import matplotlib.pyplot as plt\n",
    "training.hist(bins=50, figsize=(20,15))\n",
    "plt.show()"
   ]
  },
  {
   "cell_type": "markdown",
   "id": "9ed6011b",
   "metadata": {},
   "source": [
    "The plot b1 over b6 shows that the value is spread over approximately 50 to 70 of b6 and b1's value range is over 20.\n",
    "In the plot b2 over b7, b7 scattered over 20 to 50 and b2 value is maximum about 50 nearly 30 of b7.\n",
    "The plot b3 over b8 is much similar to b2 over b7 plot.\n",
    "The plot b9-b4 is evenly distributed with the value of 80 to 120 for b9. The values of b4 is also evenly distributed with the highest value is about 30."
   ]
  },
  {
   "cell_type": "markdown",
   "id": "5595495d",
   "metadata": {},
   "source": [
    "#### Drop the columns start with the 'pred_minus_obs' string of training data"
   ]
  },
  {
   "cell_type": "code",
   "execution_count": 7,
   "id": "1446adff",
   "metadata": {},
   "outputs": [],
   "source": [
    "df_training = training[training.columns.drop(list(training.filter(regex='pred_minus_obs')))]"
   ]
  },
  {
   "cell_type": "code",
   "execution_count": 8,
   "id": "9f93eaa6",
   "metadata": {},
   "outputs": [
    {
     "data": {
      "text/html": [
       "<div>\n",
       "<style scoped>\n",
       "    .dataframe tbody tr th:only-of-type {\n",
       "        vertical-align: middle;\n",
       "    }\n",
       "\n",
       "    .dataframe tbody tr th {\n",
       "        vertical-align: top;\n",
       "    }\n",
       "\n",
       "    .dataframe thead th {\n",
       "        text-align: right;\n",
       "    }\n",
       "</style>\n",
       "<table border=\"1\" class=\"dataframe\">\n",
       "  <thead>\n",
       "    <tr style=\"text-align: right;\">\n",
       "      <th></th>\n",
       "      <th>class</th>\n",
       "      <th>b1</th>\n",
       "      <th>b2</th>\n",
       "      <th>b3</th>\n",
       "      <th>b4</th>\n",
       "      <th>b5</th>\n",
       "      <th>b6</th>\n",
       "      <th>b7</th>\n",
       "      <th>b8</th>\n",
       "      <th>b9</th>\n",
       "    </tr>\n",
       "  </thead>\n",
       "  <tbody>\n",
       "    <tr>\n",
       "      <th>0</th>\n",
       "      <td>d</td>\n",
       "      <td>67</td>\n",
       "      <td>51</td>\n",
       "      <td>68</td>\n",
       "      <td>115</td>\n",
       "      <td>69</td>\n",
       "      <td>111</td>\n",
       "      <td>136</td>\n",
       "      <td>31</td>\n",
       "      <td>67</td>\n",
       "    </tr>\n",
       "    <tr>\n",
       "      <th>1</th>\n",
       "      <td>s</td>\n",
       "      <td>67</td>\n",
       "      <td>28</td>\n",
       "      <td>51</td>\n",
       "      <td>99</td>\n",
       "      <td>50</td>\n",
       "      <td>97</td>\n",
       "      <td>82</td>\n",
       "      <td>26</td>\n",
       "      <td>59</td>\n",
       "    </tr>\n",
       "    <tr>\n",
       "      <th>2</th>\n",
       "      <td>s</td>\n",
       "      <td>63</td>\n",
       "      <td>26</td>\n",
       "      <td>50</td>\n",
       "      <td>95</td>\n",
       "      <td>49</td>\n",
       "      <td>91</td>\n",
       "      <td>81</td>\n",
       "      <td>26</td>\n",
       "      <td>57</td>\n",
       "    </tr>\n",
       "    <tr>\n",
       "      <th>3</th>\n",
       "      <td>d</td>\n",
       "      <td>63</td>\n",
       "      <td>42</td>\n",
       "      <td>63</td>\n",
       "      <td>97</td>\n",
       "      <td>66</td>\n",
       "      <td>108</td>\n",
       "      <td>111</td>\n",
       "      <td>28</td>\n",
       "      <td>59</td>\n",
       "    </tr>\n",
       "    <tr>\n",
       "      <th>4</th>\n",
       "      <td>s</td>\n",
       "      <td>46</td>\n",
       "      <td>27</td>\n",
       "      <td>50</td>\n",
       "      <td>83</td>\n",
       "      <td>51</td>\n",
       "      <td>90</td>\n",
       "      <td>76</td>\n",
       "      <td>26</td>\n",
       "      <td>56</td>\n",
       "    </tr>\n",
       "  </tbody>\n",
       "</table>\n",
       "</div>"
      ],
      "text/plain": [
       "  class  b1  b2  b3   b4  b5   b6   b7  b8  b9\n",
       "0     d  67  51  68  115  69  111  136  31  67\n",
       "1     s  67  28  51   99  50   97   82  26  59\n",
       "2     s  63  26  50   95  49   91   81  26  57\n",
       "3     d  63  42  63   97  66  108  111  28  59\n",
       "4     s  46  27  50   83  51   90   76  26  56"
      ]
     },
     "execution_count": 8,
     "metadata": {},
     "output_type": "execute_result"
    }
   ],
   "source": [
    "df_training.head()"
   ]
  },
  {
   "cell_type": "code",
   "execution_count": 9,
   "id": "7c991fb3",
   "metadata": {},
   "outputs": [
    {
     "name": "stdout",
     "output_type": "stream",
     "text": [
      "<class 'pandas.core.frame.DataFrame'>\n",
      "RangeIndex: 325 entries, 0 to 324\n",
      "Data columns (total 10 columns):\n",
      " #   Column  Non-Null Count  Dtype \n",
      "---  ------  --------------  ----- \n",
      " 0   class   325 non-null    object\n",
      " 1   b1      325 non-null    int64 \n",
      " 2   b2      325 non-null    int64 \n",
      " 3   b3      325 non-null    int64 \n",
      " 4   b4      325 non-null    int64 \n",
      " 5   b5      325 non-null    int64 \n",
      " 6   b6      325 non-null    int64 \n",
      " 7   b7      325 non-null    int64 \n",
      " 8   b8      325 non-null    int64 \n",
      " 9   b9      325 non-null    int64 \n",
      "dtypes: int64(9), object(1)\n",
      "memory usage: 25.5+ KB\n"
     ]
    }
   ],
   "source": [
    "df_training.info()"
   ]
  },
  {
   "cell_type": "markdown",
   "id": "07621b45",
   "metadata": {},
   "source": [
    "#### Count the number of instances for each class label"
   ]
  },
  {
   "cell_type": "code",
   "execution_count": 10,
   "id": "8621e926",
   "metadata": {},
   "outputs": [
    {
     "data": {
      "text/plain": [
       "s    136\n",
       "d    105\n",
       "o     46\n",
       "h     38\n",
       "Name: class, dtype: int64"
      ]
     },
     "execution_count": 10,
     "metadata": {},
     "output_type": "execute_result"
    }
   ],
   "source": [
    "df_training['class'].value_counts()"
   ]
  },
  {
   "cell_type": "markdown",
   "id": "5a34cd9e",
   "metadata": {},
   "source": [
    "It shows that training data set is not evenly distributed. The 'o' and 'h' class have only few instances near 40 where as the other two classes have more than 100 instances."
   ]
  },
  {
   "cell_type": "code",
   "execution_count": 11,
   "id": "6f4d25f2",
   "metadata": {},
   "outputs": [
    {
     "data": {
      "text/html": [
       "<div>\n",
       "<style scoped>\n",
       "    .dataframe tbody tr th:only-of-type {\n",
       "        vertical-align: middle;\n",
       "    }\n",
       "\n",
       "    .dataframe tbody tr th {\n",
       "        vertical-align: top;\n",
       "    }\n",
       "\n",
       "    .dataframe thead th {\n",
       "        text-align: right;\n",
       "    }\n",
       "</style>\n",
       "<table border=\"1\" class=\"dataframe\">\n",
       "  <thead>\n",
       "    <tr style=\"text-align: right;\">\n",
       "      <th></th>\n",
       "      <th>b1</th>\n",
       "      <th>b2</th>\n",
       "      <th>b3</th>\n",
       "      <th>b4</th>\n",
       "      <th>b5</th>\n",
       "      <th>b6</th>\n",
       "      <th>b7</th>\n",
       "      <th>b8</th>\n",
       "      <th>b9</th>\n",
       "    </tr>\n",
       "  </thead>\n",
       "  <tbody>\n",
       "    <tr>\n",
       "      <th>0</th>\n",
       "      <td>67</td>\n",
       "      <td>51</td>\n",
       "      <td>68</td>\n",
       "      <td>115</td>\n",
       "      <td>69</td>\n",
       "      <td>111</td>\n",
       "      <td>136</td>\n",
       "      <td>31</td>\n",
       "      <td>67</td>\n",
       "    </tr>\n",
       "    <tr>\n",
       "      <th>1</th>\n",
       "      <td>67</td>\n",
       "      <td>28</td>\n",
       "      <td>51</td>\n",
       "      <td>99</td>\n",
       "      <td>50</td>\n",
       "      <td>97</td>\n",
       "      <td>82</td>\n",
       "      <td>26</td>\n",
       "      <td>59</td>\n",
       "    </tr>\n",
       "    <tr>\n",
       "      <th>2</th>\n",
       "      <td>63</td>\n",
       "      <td>26</td>\n",
       "      <td>50</td>\n",
       "      <td>95</td>\n",
       "      <td>49</td>\n",
       "      <td>91</td>\n",
       "      <td>81</td>\n",
       "      <td>26</td>\n",
       "      <td>57</td>\n",
       "    </tr>\n",
       "    <tr>\n",
       "      <th>3</th>\n",
       "      <td>63</td>\n",
       "      <td>42</td>\n",
       "      <td>63</td>\n",
       "      <td>97</td>\n",
       "      <td>66</td>\n",
       "      <td>108</td>\n",
       "      <td>111</td>\n",
       "      <td>28</td>\n",
       "      <td>59</td>\n",
       "    </tr>\n",
       "    <tr>\n",
       "      <th>4</th>\n",
       "      <td>46</td>\n",
       "      <td>27</td>\n",
       "      <td>50</td>\n",
       "      <td>83</td>\n",
       "      <td>51</td>\n",
       "      <td>90</td>\n",
       "      <td>76</td>\n",
       "      <td>26</td>\n",
       "      <td>56</td>\n",
       "    </tr>\n",
       "    <tr>\n",
       "      <th>...</th>\n",
       "      <td>...</td>\n",
       "      <td>...</td>\n",
       "      <td>...</td>\n",
       "      <td>...</td>\n",
       "      <td>...</td>\n",
       "      <td>...</td>\n",
       "      <td>...</td>\n",
       "      <td>...</td>\n",
       "      <td>...</td>\n",
       "    </tr>\n",
       "    <tr>\n",
       "      <th>320</th>\n",
       "      <td>55</td>\n",
       "      <td>56</td>\n",
       "      <td>72</td>\n",
       "      <td>91</td>\n",
       "      <td>79</td>\n",
       "      <td>113</td>\n",
       "      <td>86</td>\n",
       "      <td>35</td>\n",
       "      <td>68</td>\n",
       "    </tr>\n",
       "    <tr>\n",
       "      <th>321</th>\n",
       "      <td>69</td>\n",
       "      <td>49</td>\n",
       "      <td>76</td>\n",
       "      <td>91</td>\n",
       "      <td>52</td>\n",
       "      <td>91</td>\n",
       "      <td>92</td>\n",
       "      <td>25</td>\n",
       "      <td>57</td>\n",
       "    </tr>\n",
       "    <tr>\n",
       "      <th>322</th>\n",
       "      <td>49</td>\n",
       "      <td>26</td>\n",
       "      <td>48</td>\n",
       "      <td>107</td>\n",
       "      <td>59</td>\n",
       "      <td>104</td>\n",
       "      <td>62</td>\n",
       "      <td>22</td>\n",
       "      <td>53</td>\n",
       "    </tr>\n",
       "    <tr>\n",
       "      <th>323</th>\n",
       "      <td>55</td>\n",
       "      <td>26</td>\n",
       "      <td>52</td>\n",
       "      <td>92</td>\n",
       "      <td>55</td>\n",
       "      <td>98</td>\n",
       "      <td>65</td>\n",
       "      <td>23</td>\n",
       "      <td>56</td>\n",
       "    </tr>\n",
       "    <tr>\n",
       "      <th>324</th>\n",
       "      <td>71</td>\n",
       "      <td>28</td>\n",
       "      <td>51</td>\n",
       "      <td>96</td>\n",
       "      <td>46</td>\n",
       "      <td>88</td>\n",
       "      <td>92</td>\n",
       "      <td>25</td>\n",
       "      <td>58</td>\n",
       "    </tr>\n",
       "  </tbody>\n",
       "</table>\n",
       "<p>325 rows × 9 columns</p>\n",
       "</div>"
      ],
      "text/plain": [
       "     b1  b2  b3   b4  b5   b6   b7  b8  b9\n",
       "0    67  51  68  115  69  111  136  31  67\n",
       "1    67  28  51   99  50   97   82  26  59\n",
       "2    63  26  50   95  49   91   81  26  57\n",
       "3    63  42  63   97  66  108  111  28  59\n",
       "4    46  27  50   83  51   90   76  26  56\n",
       "..   ..  ..  ..  ...  ..  ...  ...  ..  ..\n",
       "320  55  56  72   91  79  113   86  35  68\n",
       "321  69  49  76   91  52   91   92  25  57\n",
       "322  49  26  48  107  59  104   62  22  53\n",
       "323  55  26  52   92  55   98   65  23  56\n",
       "324  71  28  51   96  46   88   92  25  58\n",
       "\n",
       "[325 rows x 9 columns]"
      ]
     },
     "execution_count": 11,
     "metadata": {},
     "output_type": "execute_result"
    }
   ],
   "source": [
    "from sklearn.impute import SimpleImputer\n",
    "imputer = SimpleImputer(strategy=\"median\")\n",
    "df_training_num = df_training.drop(\"class\", axis=1)\n",
    "df_training_num"
   ]
  },
  {
   "cell_type": "markdown",
   "id": "8a222016",
   "metadata": {},
   "source": [
    "#### Scaling\n",
    "Here standard scaling is used over training data."
   ]
  },
  {
   "cell_type": "code",
   "execution_count": 12,
   "id": "307ae444",
   "metadata": {},
   "outputs": [],
   "source": [
    "from sklearn.pipeline import Pipeline\n",
    "from sklearn.preprocessing import StandardScaler\n",
    "num_pipeline = Pipeline([\n",
    " ('imputer', SimpleImputer(strategy=\"median\")),\n",
    " ('std_scaler', StandardScaler()),\n",
    " ])\n",
    "df_training_num_tr = num_pipeline.fit_transform(df_training_num)"
   ]
  },
  {
   "cell_type": "code",
   "execution_count": 13,
   "id": "3639be26",
   "metadata": {},
   "outputs": [
    {
     "data": {
      "text/plain": [
       "array([[ 0.76823994,  0.86623295,  0.43606029, ...,  3.01708854,\n",
       "         0.48758236,  0.91533208],\n",
       "       [ 0.76823994, -0.71267251, -0.69876454, ..., -0.23256801,\n",
       "        -0.1850164 ,  0.01352708],\n",
       "       [ 0.42598088, -0.84996863, -0.76551894, ..., -0.29274684,\n",
       "        -0.1850164 , -0.21192418],\n",
       "       ...,\n",
       "       [-0.7719258 , -0.84996863, -0.89902774, ..., -1.43614451,\n",
       "        -0.72309541, -0.66282668],\n",
       "       [-0.25853722, -0.84996863, -0.63201013, ..., -1.25560804,\n",
       "        -0.58857565, -0.3246498 ],\n",
       "       [ 1.11049899, -0.71267251, -0.69876454, ...,  0.36922024,\n",
       "        -0.31953615, -0.09919855]])"
      ]
     },
     "execution_count": 13,
     "metadata": {},
     "output_type": "execute_result"
    }
   ],
   "source": [
    "df_training_num_tr"
   ]
  },
  {
   "cell_type": "code",
   "execution_count": 14,
   "id": "1cde2286",
   "metadata": {},
   "outputs": [
    {
     "data": {
      "text/plain": [
       "325"
      ]
     },
     "execution_count": 14,
     "metadata": {},
     "output_type": "execute_result"
    }
   ],
   "source": [
    "len(df_training_num_tr)"
   ]
  },
  {
   "cell_type": "code",
   "execution_count": 15,
   "id": "b6a6e214",
   "metadata": {},
   "outputs": [
    {
     "data": {
      "text/html": [
       "<div>\n",
       "<style scoped>\n",
       "    .dataframe tbody tr th:only-of-type {\n",
       "        vertical-align: middle;\n",
       "    }\n",
       "\n",
       "    .dataframe tbody tr th {\n",
       "        vertical-align: top;\n",
       "    }\n",
       "\n",
       "    .dataframe thead th {\n",
       "        text-align: right;\n",
       "    }\n",
       "</style>\n",
       "<table border=\"1\" class=\"dataframe\">\n",
       "  <thead>\n",
       "    <tr style=\"text-align: right;\">\n",
       "      <th></th>\n",
       "      <th>b1</th>\n",
       "      <th>b2</th>\n",
       "      <th>b3</th>\n",
       "      <th>b4</th>\n",
       "      <th>b5</th>\n",
       "      <th>b6</th>\n",
       "      <th>b7</th>\n",
       "      <th>b8</th>\n",
       "      <th>b9</th>\n",
       "    </tr>\n",
       "  </thead>\n",
       "  <tbody>\n",
       "    <tr>\n",
       "      <th>0</th>\n",
       "      <td>0.768240</td>\n",
       "      <td>0.866233</td>\n",
       "      <td>0.436060</td>\n",
       "      <td>1.695451</td>\n",
       "      <td>1.024724</td>\n",
       "      <td>1.252415</td>\n",
       "      <td>3.017089</td>\n",
       "      <td>0.487582</td>\n",
       "      <td>0.915332</td>\n",
       "    </tr>\n",
       "    <tr>\n",
       "      <th>1</th>\n",
       "      <td>0.768240</td>\n",
       "      <td>-0.712673</td>\n",
       "      <td>-0.698765</td>\n",
       "      <td>0.254401</td>\n",
       "      <td>-0.761240</td>\n",
       "      <td>-0.233114</td>\n",
       "      <td>-0.232568</td>\n",
       "      <td>-0.185016</td>\n",
       "      <td>0.013527</td>\n",
       "    </tr>\n",
       "    <tr>\n",
       "      <th>2</th>\n",
       "      <td>0.425981</td>\n",
       "      <td>-0.849969</td>\n",
       "      <td>-0.765519</td>\n",
       "      <td>-0.105862</td>\n",
       "      <td>-0.855238</td>\n",
       "      <td>-0.869769</td>\n",
       "      <td>-0.292747</td>\n",
       "      <td>-0.185016</td>\n",
       "      <td>-0.211924</td>\n",
       "    </tr>\n",
       "    <tr>\n",
       "      <th>3</th>\n",
       "      <td>0.425981</td>\n",
       "      <td>0.248400</td>\n",
       "      <td>0.102288</td>\n",
       "      <td>0.074270</td>\n",
       "      <td>0.742729</td>\n",
       "      <td>0.934087</td>\n",
       "      <td>1.512618</td>\n",
       "      <td>0.084023</td>\n",
       "      <td>0.013527</td>\n",
       "    </tr>\n",
       "    <tr>\n",
       "      <th>4</th>\n",
       "      <td>-1.028620</td>\n",
       "      <td>-0.781321</td>\n",
       "      <td>-0.765519</td>\n",
       "      <td>-1.186649</td>\n",
       "      <td>-0.667242</td>\n",
       "      <td>-0.975878</td>\n",
       "      <td>-0.593641</td>\n",
       "      <td>-0.185016</td>\n",
       "      <td>-0.324650</td>\n",
       "    </tr>\n",
       "    <tr>\n",
       "      <th>...</th>\n",
       "      <td>...</td>\n",
       "      <td>...</td>\n",
       "      <td>...</td>\n",
       "      <td>...</td>\n",
       "      <td>...</td>\n",
       "      <td>...</td>\n",
       "      <td>...</td>\n",
       "      <td>...</td>\n",
       "      <td>...</td>\n",
       "    </tr>\n",
       "    <tr>\n",
       "      <th>320</th>\n",
       "      <td>-0.258537</td>\n",
       "      <td>1.209473</td>\n",
       "      <td>0.703078</td>\n",
       "      <td>-0.466124</td>\n",
       "      <td>1.964705</td>\n",
       "      <td>1.464633</td>\n",
       "      <td>0.008147</td>\n",
       "      <td>1.025661</td>\n",
       "      <td>1.028058</td>\n",
       "    </tr>\n",
       "    <tr>\n",
       "      <th>321</th>\n",
       "      <td>0.939369</td>\n",
       "      <td>0.728937</td>\n",
       "      <td>0.970096</td>\n",
       "      <td>-0.466124</td>\n",
       "      <td>-0.573244</td>\n",
       "      <td>-0.869769</td>\n",
       "      <td>0.369220</td>\n",
       "      <td>-0.319536</td>\n",
       "      <td>-0.211924</td>\n",
       "    </tr>\n",
       "    <tr>\n",
       "      <th>322</th>\n",
       "      <td>-0.771926</td>\n",
       "      <td>-0.849969</td>\n",
       "      <td>-0.899028</td>\n",
       "      <td>0.974926</td>\n",
       "      <td>0.084743</td>\n",
       "      <td>0.509651</td>\n",
       "      <td>-1.436145</td>\n",
       "      <td>-0.723095</td>\n",
       "      <td>-0.662827</td>\n",
       "    </tr>\n",
       "    <tr>\n",
       "      <th>323</th>\n",
       "      <td>-0.258537</td>\n",
       "      <td>-0.849969</td>\n",
       "      <td>-0.632010</td>\n",
       "      <td>-0.376059</td>\n",
       "      <td>-0.291249</td>\n",
       "      <td>-0.127005</td>\n",
       "      <td>-1.255608</td>\n",
       "      <td>-0.588576</td>\n",
       "      <td>-0.324650</td>\n",
       "    </tr>\n",
       "    <tr>\n",
       "      <th>324</th>\n",
       "      <td>1.110499</td>\n",
       "      <td>-0.712673</td>\n",
       "      <td>-0.698765</td>\n",
       "      <td>-0.015796</td>\n",
       "      <td>-1.137232</td>\n",
       "      <td>-1.188096</td>\n",
       "      <td>0.369220</td>\n",
       "      <td>-0.319536</td>\n",
       "      <td>-0.099199</td>\n",
       "    </tr>\n",
       "  </tbody>\n",
       "</table>\n",
       "<p>325 rows × 9 columns</p>\n",
       "</div>"
      ],
      "text/plain": [
       "           b1        b2        b3        b4        b5        b6        b7  \\\n",
       "0    0.768240  0.866233  0.436060  1.695451  1.024724  1.252415  3.017089   \n",
       "1    0.768240 -0.712673 -0.698765  0.254401 -0.761240 -0.233114 -0.232568   \n",
       "2    0.425981 -0.849969 -0.765519 -0.105862 -0.855238 -0.869769 -0.292747   \n",
       "3    0.425981  0.248400  0.102288  0.074270  0.742729  0.934087  1.512618   \n",
       "4   -1.028620 -0.781321 -0.765519 -1.186649 -0.667242 -0.975878 -0.593641   \n",
       "..        ...       ...       ...       ...       ...       ...       ...   \n",
       "320 -0.258537  1.209473  0.703078 -0.466124  1.964705  1.464633  0.008147   \n",
       "321  0.939369  0.728937  0.970096 -0.466124 -0.573244 -0.869769  0.369220   \n",
       "322 -0.771926 -0.849969 -0.899028  0.974926  0.084743  0.509651 -1.436145   \n",
       "323 -0.258537 -0.849969 -0.632010 -0.376059 -0.291249 -0.127005 -1.255608   \n",
       "324  1.110499 -0.712673 -0.698765 -0.015796 -1.137232 -1.188096  0.369220   \n",
       "\n",
       "           b8        b9  \n",
       "0    0.487582  0.915332  \n",
       "1   -0.185016  0.013527  \n",
       "2   -0.185016 -0.211924  \n",
       "3    0.084023  0.013527  \n",
       "4   -0.185016 -0.324650  \n",
       "..        ...       ...  \n",
       "320  1.025661  1.028058  \n",
       "321 -0.319536 -0.211924  \n",
       "322 -0.723095 -0.662827  \n",
       "323 -0.588576 -0.324650  \n",
       "324 -0.319536 -0.099199  \n",
       "\n",
       "[325 rows x 9 columns]"
      ]
     },
     "execution_count": 15,
     "metadata": {},
     "output_type": "execute_result"
    }
   ],
   "source": [
    "df_training_tr = pd.DataFrame(df_training_num_tr, columns=df_training_num.columns)\n",
    "df_training_tr"
   ]
  },
  {
   "cell_type": "markdown",
   "id": "e3986f3e",
   "metadata": {},
   "source": [
    "#### Drop the columns start with the 'pred_minus_obs' string of testing data"
   ]
  },
  {
   "cell_type": "code",
   "execution_count": 16,
   "id": "73026b0e",
   "metadata": {},
   "outputs": [
    {
     "data": {
      "text/html": [
       "<div>\n",
       "<style scoped>\n",
       "    .dataframe tbody tr th:only-of-type {\n",
       "        vertical-align: middle;\n",
       "    }\n",
       "\n",
       "    .dataframe tbody tr th {\n",
       "        vertical-align: top;\n",
       "    }\n",
       "\n",
       "    .dataframe thead th {\n",
       "        text-align: right;\n",
       "    }\n",
       "</style>\n",
       "<table border=\"1\" class=\"dataframe\">\n",
       "  <thead>\n",
       "    <tr style=\"text-align: right;\">\n",
       "      <th></th>\n",
       "      <th>class</th>\n",
       "      <th>b1</th>\n",
       "      <th>b2</th>\n",
       "      <th>b3</th>\n",
       "      <th>b4</th>\n",
       "      <th>b5</th>\n",
       "      <th>b6</th>\n",
       "      <th>b7</th>\n",
       "      <th>b8</th>\n",
       "      <th>b9</th>\n",
       "    </tr>\n",
       "  </thead>\n",
       "  <tbody>\n",
       "    <tr>\n",
       "      <th>0</th>\n",
       "      <td>d</td>\n",
       "      <td>39</td>\n",
       "      <td>36</td>\n",
       "      <td>57</td>\n",
       "      <td>91</td>\n",
       "      <td>59</td>\n",
       "      <td>101</td>\n",
       "      <td>93</td>\n",
       "      <td>27</td>\n",
       "      <td>60</td>\n",
       "    </tr>\n",
       "    <tr>\n",
       "      <th>1</th>\n",
       "      <td>h</td>\n",
       "      <td>84</td>\n",
       "      <td>30</td>\n",
       "      <td>57</td>\n",
       "      <td>112</td>\n",
       "      <td>51</td>\n",
       "      <td>98</td>\n",
       "      <td>92</td>\n",
       "      <td>26</td>\n",
       "      <td>62</td>\n",
       "    </tr>\n",
       "    <tr>\n",
       "      <th>2</th>\n",
       "      <td>s</td>\n",
       "      <td>53</td>\n",
       "      <td>25</td>\n",
       "      <td>49</td>\n",
       "      <td>99</td>\n",
       "      <td>51</td>\n",
       "      <td>93</td>\n",
       "      <td>84</td>\n",
       "      <td>26</td>\n",
       "      <td>58</td>\n",
       "    </tr>\n",
       "    <tr>\n",
       "      <th>3</th>\n",
       "      <td>s</td>\n",
       "      <td>59</td>\n",
       "      <td>26</td>\n",
       "      <td>49</td>\n",
       "      <td>103</td>\n",
       "      <td>47</td>\n",
       "      <td>92</td>\n",
       "      <td>82</td>\n",
       "      <td>25</td>\n",
       "      <td>56</td>\n",
       "    </tr>\n",
       "    <tr>\n",
       "      <th>4</th>\n",
       "      <td>d</td>\n",
       "      <td>57</td>\n",
       "      <td>49</td>\n",
       "      <td>66</td>\n",
       "      <td>103</td>\n",
       "      <td>64</td>\n",
       "      <td>106</td>\n",
       "      <td>114</td>\n",
       "      <td>28</td>\n",
       "      <td>59</td>\n",
       "    </tr>\n",
       "  </tbody>\n",
       "</table>\n",
       "</div>"
      ],
      "text/plain": [
       "  class  b1  b2  b3   b4  b5   b6   b7  b8  b9\n",
       "0     d  39  36  57   91  59  101   93  27  60\n",
       "1     h  84  30  57  112  51   98   92  26  62\n",
       "2     s  53  25  49   99  51   93   84  26  58\n",
       "3     s  59  26  49  103  47   92   82  25  56\n",
       "4     d  57  49  66  103  64  106  114  28  59"
      ]
     },
     "execution_count": 16,
     "metadata": {},
     "output_type": "execute_result"
    }
   ],
   "source": [
    "df_testing = testing[testing.columns.drop(list(testing.filter(regex='pred_minus_obs')))]\n",
    "df_testing.head()"
   ]
  },
  {
   "cell_type": "code",
   "execution_count": 17,
   "id": "1e400a6a",
   "metadata": {},
   "outputs": [
    {
     "data": {
      "text/plain": [
       "s    59\n",
       "d    54\n",
       "h    48\n",
       "o    37\n",
       "Name: class, dtype: int64"
      ]
     },
     "execution_count": 17,
     "metadata": {},
     "output_type": "execute_result"
    }
   ],
   "source": [
    "df_testing['class'].value_counts()"
   ]
  },
  {
   "cell_type": "code",
   "execution_count": 18,
   "id": "c58dc10e",
   "metadata": {},
   "outputs": [
    {
     "data": {
      "text/html": [
       "<div>\n",
       "<style scoped>\n",
       "    .dataframe tbody tr th:only-of-type {\n",
       "        vertical-align: middle;\n",
       "    }\n",
       "\n",
       "    .dataframe tbody tr th {\n",
       "        vertical-align: top;\n",
       "    }\n",
       "\n",
       "    .dataframe thead th {\n",
       "        text-align: right;\n",
       "    }\n",
       "</style>\n",
       "<table border=\"1\" class=\"dataframe\">\n",
       "  <thead>\n",
       "    <tr style=\"text-align: right;\">\n",
       "      <th></th>\n",
       "      <th>b1</th>\n",
       "      <th>b2</th>\n",
       "      <th>b3</th>\n",
       "      <th>b4</th>\n",
       "      <th>b5</th>\n",
       "      <th>b6</th>\n",
       "      <th>b7</th>\n",
       "      <th>b8</th>\n",
       "      <th>b9</th>\n",
       "    </tr>\n",
       "  </thead>\n",
       "  <tbody>\n",
       "    <tr>\n",
       "      <th>0</th>\n",
       "      <td>39</td>\n",
       "      <td>36</td>\n",
       "      <td>57</td>\n",
       "      <td>91</td>\n",
       "      <td>59</td>\n",
       "      <td>101</td>\n",
       "      <td>93</td>\n",
       "      <td>27</td>\n",
       "      <td>60</td>\n",
       "    </tr>\n",
       "    <tr>\n",
       "      <th>1</th>\n",
       "      <td>84</td>\n",
       "      <td>30</td>\n",
       "      <td>57</td>\n",
       "      <td>112</td>\n",
       "      <td>51</td>\n",
       "      <td>98</td>\n",
       "      <td>92</td>\n",
       "      <td>26</td>\n",
       "      <td>62</td>\n",
       "    </tr>\n",
       "    <tr>\n",
       "      <th>2</th>\n",
       "      <td>53</td>\n",
       "      <td>25</td>\n",
       "      <td>49</td>\n",
       "      <td>99</td>\n",
       "      <td>51</td>\n",
       "      <td>93</td>\n",
       "      <td>84</td>\n",
       "      <td>26</td>\n",
       "      <td>58</td>\n",
       "    </tr>\n",
       "    <tr>\n",
       "      <th>3</th>\n",
       "      <td>59</td>\n",
       "      <td>26</td>\n",
       "      <td>49</td>\n",
       "      <td>103</td>\n",
       "      <td>47</td>\n",
       "      <td>92</td>\n",
       "      <td>82</td>\n",
       "      <td>25</td>\n",
       "      <td>56</td>\n",
       "    </tr>\n",
       "    <tr>\n",
       "      <th>4</th>\n",
       "      <td>57</td>\n",
       "      <td>49</td>\n",
       "      <td>66</td>\n",
       "      <td>103</td>\n",
       "      <td>64</td>\n",
       "      <td>106</td>\n",
       "      <td>114</td>\n",
       "      <td>28</td>\n",
       "      <td>59</td>\n",
       "    </tr>\n",
       "    <tr>\n",
       "      <th>...</th>\n",
       "      <td>...</td>\n",
       "      <td>...</td>\n",
       "      <td>...</td>\n",
       "      <td>...</td>\n",
       "      <td>...</td>\n",
       "      <td>...</td>\n",
       "      <td>...</td>\n",
       "      <td>...</td>\n",
       "      <td>...</td>\n",
       "    </tr>\n",
       "    <tr>\n",
       "      <th>193</th>\n",
       "      <td>55</td>\n",
       "      <td>61</td>\n",
       "      <td>90</td>\n",
       "      <td>75</td>\n",
       "      <td>55</td>\n",
       "      <td>91</td>\n",
       "      <td>84</td>\n",
       "      <td>24</td>\n",
       "      <td>54</td>\n",
       "    </tr>\n",
       "    <tr>\n",
       "      <th>194</th>\n",
       "      <td>66</td>\n",
       "      <td>69</td>\n",
       "      <td>93</td>\n",
       "      <td>90</td>\n",
       "      <td>63</td>\n",
       "      <td>100</td>\n",
       "      <td>99</td>\n",
       "      <td>25</td>\n",
       "      <td>57</td>\n",
       "    </tr>\n",
       "    <tr>\n",
       "      <th>195</th>\n",
       "      <td>79</td>\n",
       "      <td>30</td>\n",
       "      <td>55</td>\n",
       "      <td>115</td>\n",
       "      <td>51</td>\n",
       "      <td>96</td>\n",
       "      <td>109</td>\n",
       "      <td>25</td>\n",
       "      <td>59</td>\n",
       "    </tr>\n",
       "    <tr>\n",
       "      <th>196</th>\n",
       "      <td>69</td>\n",
       "      <td>27</td>\n",
       "      <td>53</td>\n",
       "      <td>106</td>\n",
       "      <td>47</td>\n",
       "      <td>90</td>\n",
       "      <td>87</td>\n",
       "      <td>24</td>\n",
       "      <td>55</td>\n",
       "    </tr>\n",
       "    <tr>\n",
       "      <th>197</th>\n",
       "      <td>80</td>\n",
       "      <td>29</td>\n",
       "      <td>55</td>\n",
       "      <td>116</td>\n",
       "      <td>50</td>\n",
       "      <td>95</td>\n",
       "      <td>102</td>\n",
       "      <td>25</td>\n",
       "      <td>59</td>\n",
       "    </tr>\n",
       "  </tbody>\n",
       "</table>\n",
       "<p>198 rows × 9 columns</p>\n",
       "</div>"
      ],
      "text/plain": [
       "     b1  b2  b3   b4  b5   b6   b7  b8  b9\n",
       "0    39  36  57   91  59  101   93  27  60\n",
       "1    84  30  57  112  51   98   92  26  62\n",
       "2    53  25  49   99  51   93   84  26  58\n",
       "3    59  26  49  103  47   92   82  25  56\n",
       "4    57  49  66  103  64  106  114  28  59\n",
       "..   ..  ..  ..  ...  ..  ...  ...  ..  ..\n",
       "193  55  61  90   75  55   91   84  24  54\n",
       "194  66  69  93   90  63  100   99  25  57\n",
       "195  79  30  55  115  51   96  109  25  59\n",
       "196  69  27  53  106  47   90   87  24  55\n",
       "197  80  29  55  116  50   95  102  25  59\n",
       "\n",
       "[198 rows x 9 columns]"
      ]
     },
     "execution_count": 18,
     "metadata": {},
     "output_type": "execute_result"
    }
   ],
   "source": [
    "from sklearn.impute import SimpleImputer\n",
    "imputer = SimpleImputer(strategy=\"median\")\n",
    "df_testing_num = df_testing.drop(\"class\", axis=1)\n",
    "df_testing_num"
   ]
  },
  {
   "cell_type": "markdown",
   "id": "401db599",
   "metadata": {},
   "source": [
    "Here standard scaling is used over testing data."
   ]
  },
  {
   "cell_type": "code",
   "execution_count": 19,
   "id": "6dd855d0",
   "metadata": {},
   "outputs": [
    {
     "data": {
      "text/plain": [
       "array([[-1.8787969 , -0.28223274, -0.3865936 , ...,  0.15428138,\n",
       "        -0.18893459, -0.11433257],\n",
       "       [ 1.6513761 , -0.61954914, -0.3865936 , ...,  0.08997041,\n",
       "        -0.3006034 ,  0.09053484],\n",
       "       [-0.78052085, -0.90064614, -0.84980409, ..., -0.4245174 ,\n",
       "        -0.3006034 , -0.31919997],\n",
       "       ...,\n",
       "       [ 1.25913466, -0.61954914, -0.50239623, ...,  1.18325699,\n",
       "        -0.4122722 , -0.21676627],\n",
       "       [ 0.47465177, -0.78820734, -0.61819885, ..., -0.23158447,\n",
       "        -0.523941  , -0.62650107],\n",
       "       [ 1.33758295, -0.67576854, -0.50239623, ...,  0.73308016,\n",
       "        -0.4122722 , -0.21676627]])"
      ]
     },
     "execution_count": 19,
     "metadata": {},
     "output_type": "execute_result"
    }
   ],
   "source": [
    "from sklearn.pipeline import Pipeline\n",
    "from sklearn.preprocessing import StandardScaler\n",
    "num_pipeline = Pipeline([\n",
    " ('imputer', SimpleImputer(strategy=\"median\")),\n",
    " ('std_scaler', StandardScaler()),\n",
    " ])\n",
    "df_testing_num_tr = num_pipeline.fit_transform(df_testing_num)\n",
    "df_testing_num_tr"
   ]
  },
  {
   "cell_type": "code",
   "execution_count": 20,
   "id": "3e4d364c",
   "metadata": {},
   "outputs": [
    {
     "data": {
      "text/html": [
       "<div>\n",
       "<style scoped>\n",
       "    .dataframe tbody tr th:only-of-type {\n",
       "        vertical-align: middle;\n",
       "    }\n",
       "\n",
       "    .dataframe tbody tr th {\n",
       "        vertical-align: top;\n",
       "    }\n",
       "\n",
       "    .dataframe thead th {\n",
       "        text-align: right;\n",
       "    }\n",
       "</style>\n",
       "<table border=\"1\" class=\"dataframe\">\n",
       "  <thead>\n",
       "    <tr style=\"text-align: right;\">\n",
       "      <th></th>\n",
       "      <th>b1</th>\n",
       "      <th>b2</th>\n",
       "      <th>b3</th>\n",
       "      <th>b4</th>\n",
       "      <th>b5</th>\n",
       "      <th>b6</th>\n",
       "      <th>b7</th>\n",
       "      <th>b8</th>\n",
       "      <th>b9</th>\n",
       "    </tr>\n",
       "  </thead>\n",
       "  <tbody>\n",
       "    <tr>\n",
       "      <th>0</th>\n",
       "      <td>-1.878797</td>\n",
       "      <td>-0.282233</td>\n",
       "      <td>-0.386594</td>\n",
       "      <td>-0.704879</td>\n",
       "      <td>0.021654</td>\n",
       "      <td>0.031221</td>\n",
       "      <td>0.154281</td>\n",
       "      <td>-0.188935</td>\n",
       "      <td>-0.114333</td>\n",
       "    </tr>\n",
       "    <tr>\n",
       "      <th>1</th>\n",
       "      <td>1.651376</td>\n",
       "      <td>-0.619549</td>\n",
       "      <td>-0.386594</td>\n",
       "      <td>0.717192</td>\n",
       "      <td>-0.625526</td>\n",
       "      <td>-0.237548</td>\n",
       "      <td>0.089970</td>\n",
       "      <td>-0.300603</td>\n",
       "      <td>0.090535</td>\n",
       "    </tr>\n",
       "    <tr>\n",
       "      <th>2</th>\n",
       "      <td>-0.780521</td>\n",
       "      <td>-0.900646</td>\n",
       "      <td>-0.849804</td>\n",
       "      <td>-0.163138</td>\n",
       "      <td>-0.625526</td>\n",
       "      <td>-0.685496</td>\n",
       "      <td>-0.424517</td>\n",
       "      <td>-0.300603</td>\n",
       "      <td>-0.319200</td>\n",
       "    </tr>\n",
       "    <tr>\n",
       "      <th>3</th>\n",
       "      <td>-0.309831</td>\n",
       "      <td>-0.844427</td>\n",
       "      <td>-0.849804</td>\n",
       "      <td>0.107733</td>\n",
       "      <td>-0.949116</td>\n",
       "      <td>-0.775085</td>\n",
       "      <td>-0.553139</td>\n",
       "      <td>-0.412272</td>\n",
       "      <td>-0.524067</td>\n",
       "    </tr>\n",
       "    <tr>\n",
       "      <th>4</th>\n",
       "      <td>-0.466728</td>\n",
       "      <td>0.448619</td>\n",
       "      <td>0.134518</td>\n",
       "      <td>0.107733</td>\n",
       "      <td>0.426142</td>\n",
       "      <td>0.479168</td>\n",
       "      <td>1.504812</td>\n",
       "      <td>-0.077266</td>\n",
       "      <td>-0.216766</td>\n",
       "    </tr>\n",
       "    <tr>\n",
       "      <th>...</th>\n",
       "      <td>...</td>\n",
       "      <td>...</td>\n",
       "      <td>...</td>\n",
       "      <td>...</td>\n",
       "      <td>...</td>\n",
       "      <td>...</td>\n",
       "      <td>...</td>\n",
       "      <td>...</td>\n",
       "      <td>...</td>\n",
       "    </tr>\n",
       "    <tr>\n",
       "      <th>193</th>\n",
       "      <td>-0.623624</td>\n",
       "      <td>1.123252</td>\n",
       "      <td>1.524150</td>\n",
       "      <td>-1.788362</td>\n",
       "      <td>-0.301936</td>\n",
       "      <td>-0.864675</td>\n",
       "      <td>-0.424517</td>\n",
       "      <td>-0.523941</td>\n",
       "      <td>-0.728935</td>\n",
       "    </tr>\n",
       "    <tr>\n",
       "      <th>194</th>\n",
       "      <td>0.239307</td>\n",
       "      <td>1.573007</td>\n",
       "      <td>1.697854</td>\n",
       "      <td>-0.772597</td>\n",
       "      <td>0.345245</td>\n",
       "      <td>-0.058369</td>\n",
       "      <td>0.540147</td>\n",
       "      <td>-0.412272</td>\n",
       "      <td>-0.421634</td>\n",
       "    </tr>\n",
       "    <tr>\n",
       "      <th>195</th>\n",
       "      <td>1.259135</td>\n",
       "      <td>-0.619549</td>\n",
       "      <td>-0.502396</td>\n",
       "      <td>0.920345</td>\n",
       "      <td>-0.625526</td>\n",
       "      <td>-0.416727</td>\n",
       "      <td>1.183257</td>\n",
       "      <td>-0.412272</td>\n",
       "      <td>-0.216766</td>\n",
       "    </tr>\n",
       "    <tr>\n",
       "      <th>196</th>\n",
       "      <td>0.474652</td>\n",
       "      <td>-0.788207</td>\n",
       "      <td>-0.618199</td>\n",
       "      <td>0.310886</td>\n",
       "      <td>-0.949116</td>\n",
       "      <td>-0.954264</td>\n",
       "      <td>-0.231584</td>\n",
       "      <td>-0.523941</td>\n",
       "      <td>-0.626501</td>\n",
       "    </tr>\n",
       "    <tr>\n",
       "      <th>197</th>\n",
       "      <td>1.337583</td>\n",
       "      <td>-0.675769</td>\n",
       "      <td>-0.502396</td>\n",
       "      <td>0.988062</td>\n",
       "      <td>-0.706424</td>\n",
       "      <td>-0.506317</td>\n",
       "      <td>0.733080</td>\n",
       "      <td>-0.412272</td>\n",
       "      <td>-0.216766</td>\n",
       "    </tr>\n",
       "  </tbody>\n",
       "</table>\n",
       "<p>198 rows × 9 columns</p>\n",
       "</div>"
      ],
      "text/plain": [
       "           b1        b2        b3        b4        b5        b6        b7  \\\n",
       "0   -1.878797 -0.282233 -0.386594 -0.704879  0.021654  0.031221  0.154281   \n",
       "1    1.651376 -0.619549 -0.386594  0.717192 -0.625526 -0.237548  0.089970   \n",
       "2   -0.780521 -0.900646 -0.849804 -0.163138 -0.625526 -0.685496 -0.424517   \n",
       "3   -0.309831 -0.844427 -0.849804  0.107733 -0.949116 -0.775085 -0.553139   \n",
       "4   -0.466728  0.448619  0.134518  0.107733  0.426142  0.479168  1.504812   \n",
       "..        ...       ...       ...       ...       ...       ...       ...   \n",
       "193 -0.623624  1.123252  1.524150 -1.788362 -0.301936 -0.864675 -0.424517   \n",
       "194  0.239307  1.573007  1.697854 -0.772597  0.345245 -0.058369  0.540147   \n",
       "195  1.259135 -0.619549 -0.502396  0.920345 -0.625526 -0.416727  1.183257   \n",
       "196  0.474652 -0.788207 -0.618199  0.310886 -0.949116 -0.954264 -0.231584   \n",
       "197  1.337583 -0.675769 -0.502396  0.988062 -0.706424 -0.506317  0.733080   \n",
       "\n",
       "           b8        b9  \n",
       "0   -0.188935 -0.114333  \n",
       "1   -0.300603  0.090535  \n",
       "2   -0.300603 -0.319200  \n",
       "3   -0.412272 -0.524067  \n",
       "4   -0.077266 -0.216766  \n",
       "..        ...       ...  \n",
       "193 -0.523941 -0.728935  \n",
       "194 -0.412272 -0.421634  \n",
       "195 -0.412272 -0.216766  \n",
       "196 -0.523941 -0.626501  \n",
       "197 -0.412272 -0.216766  \n",
       "\n",
       "[198 rows x 9 columns]"
      ]
     },
     "execution_count": 20,
     "metadata": {},
     "output_type": "execute_result"
    }
   ],
   "source": [
    "df_testing_tr = pd.DataFrame(df_testing_num_tr, columns=df_testing_num.columns)\n",
    "df_testing_tr"
   ]
  },
  {
   "cell_type": "code",
   "execution_count": 21,
   "id": "9be89fa2",
   "metadata": {},
   "outputs": [
    {
     "data": {
      "text/plain": [
       "0      d\n",
       "1      s\n",
       "2      s\n",
       "3      d\n",
       "4      s\n",
       "      ..\n",
       "320    o\n",
       "321    d\n",
       "322    s\n",
       "323    s\n",
       "324    h\n",
       "Name: class, Length: 325, dtype: object"
      ]
     },
     "execution_count": 21,
     "metadata": {},
     "output_type": "execute_result"
    }
   ],
   "source": [
    "df_training_num_labels = df_training[\"class\"].copy()\n",
    "df_training_num_labels"
   ]
  },
  {
   "cell_type": "markdown",
   "id": "ca0df8a2",
   "metadata": {},
   "source": [
    "#### Split\n",
    "Training data is split with test size 20%."
   ]
  },
  {
   "cell_type": "code",
   "execution_count": 22,
   "id": "92785c11",
   "metadata": {},
   "outputs": [],
   "source": [
    "from sklearn.model_selection import train_test_split\n",
    "x = df_training_tr\n",
    "y = df_training['class']\n",
    "trainX, testX, trainY, testY = train_test_split(x, y, test_size = 0.2)"
   ]
  },
  {
   "cell_type": "markdown",
   "id": "a116b5b4",
   "metadata": {},
   "source": [
    "#### Support Vector Machine Classififier using the one-versus-one strategy"
   ]
  },
  {
   "cell_type": "code",
   "execution_count": 23,
   "id": "23b4fa80",
   "metadata": {},
   "outputs": [
    {
     "name": "stdout",
     "output_type": "stream",
     "text": [
      "Accuracy of OvO Classifier with SVC: 0.82\n"
     ]
    }
   ],
   "source": [
    "from sklearn.multiclass import OneVsOneClassifier\n",
    "from sklearn.svm import SVC\n",
    "from sklearn.metrics import accuracy_score\n",
    "OvO_SVC_clf = OneVsOneClassifier(SVC(decision_function_shape = 'ovo'))\n",
    "\n",
    "OvO_SVC_clf.fit(trainX, trainY)\n",
    "\n",
    "y_pred = OvO_SVC_clf.predict(testX)\n",
    "\n",
    "print('Accuracy of OvO Classifier with SVC: {:.2f}'.format(accuracy_score(testY, y_pred)))"
   ]
  },
  {
   "cell_type": "markdown",
   "id": "767bca1b",
   "metadata": {},
   "source": [
    "The accuracy is about 83%."
   ]
  },
  {
   "cell_type": "markdown",
   "id": "166db5cf",
   "metadata": {},
   "source": [
    "#### Grid Search\n",
    "Grid search with 3-fold cross validation used.Here the kernel is Linear."
   ]
  },
  {
   "cell_type": "code",
   "execution_count": 24,
   "id": "6f2e97ba",
   "metadata": {},
   "outputs": [
    {
     "data": {
      "text/plain": [
       "GridSearchCV(cv=3,\n",
       "             estimator=OneVsOneClassifier(estimator=SVC(decision_function_shape='ovo')),\n",
       "             param_grid=[{'estimator__C': [10, 0.5, 0.9],\n",
       "                          'estimator__gamma': [3, 5, 7, 9],\n",
       "                          'estimator__kernel': ['linear']}],\n",
       "             scoring='accuracy')"
      ]
     },
     "execution_count": 24,
     "metadata": {},
     "output_type": "execute_result"
    }
   ],
   "source": [
    "from sklearn.model_selection import GridSearchCV\n",
    "tuned_parameters = [{'estimator__C': [10, 0.50, 0.90],\n",
    "                     'estimator__gamma': [3, 5, 7, 9], \n",
    "                     'estimator__kernel': ['linear']}]\n",
    "\n",
    "grid = GridSearchCV(OvO_SVC_clf, tuned_parameters, cv=3, scoring='accuracy')\n",
    "\n",
    "grid.fit(trainX, trainY)"
   ]
  },
  {
   "cell_type": "code",
   "execution_count": 25,
   "id": "c17ba133",
   "metadata": {},
   "outputs": [
    {
     "name": "stdout",
     "output_type": "stream",
     "text": [
      "0.8536933083845675\n"
     ]
    }
   ],
   "source": [
    "print(grid.best_score_)"
   ]
  },
  {
   "cell_type": "markdown",
   "id": "c4e6867a",
   "metadata": {},
   "source": [
    "Score is 87%."
   ]
  },
  {
   "cell_type": "code",
   "execution_count": 26,
   "id": "5799af0b",
   "metadata": {},
   "outputs": [
    {
     "name": "stdout",
     "output_type": "stream",
     "text": [
      "{'estimator__C': 0.5, 'estimator__gamma': 3, 'estimator__kernel': 'linear'}\n"
     ]
    }
   ],
   "source": [
    "print(grid.best_params_)"
   ]
  },
  {
   "cell_type": "markdown",
   "id": "2645d61b",
   "metadata": {},
   "source": [
    "Using grid search with C = 0.9 and gamma = 3 is the best parametr."
   ]
  },
  {
   "cell_type": "code",
   "execution_count": 27,
   "id": "100a3fba",
   "metadata": {},
   "outputs": [
    {
     "data": {
      "text/plain": [
       "OneVsOneClassifier(estimator=SVC(C=0.5, decision_function_shape='ovo', gamma=3,\n",
       "                                 kernel='linear'))"
      ]
     },
     "execution_count": 27,
     "metadata": {},
     "output_type": "execute_result"
    }
   ],
   "source": [
    "grid.best_estimator_"
   ]
  },
  {
   "cell_type": "code",
   "execution_count": 28,
   "id": "7cdc8696",
   "metadata": {},
   "outputs": [
    {
     "data": {
      "text/plain": [
       "array([0.88505747, 0.89655172, 0.8372093 ])"
      ]
     },
     "execution_count": 28,
     "metadata": {},
     "output_type": "execute_result"
    }
   ],
   "source": [
    "from sklearn.model_selection import cross_val_score\n",
    "cross_val_score(OvO_SVC_clf, trainX, trainY, cv=3, scoring=\"accuracy\")"
   ]
  },
  {
   "cell_type": "markdown",
   "id": "7a2134ee",
   "metadata": {},
   "source": [
    "Here the cross validation scoring accuracy is nearly same as above."
   ]
  },
  {
   "cell_type": "code",
   "execution_count": 29,
   "id": "ae6d7ad0",
   "metadata": {},
   "outputs": [],
   "source": [
    "from sklearn.model_selection import cross_val_predict\n",
    "y_train_pred = cross_val_predict(OvO_SVC_clf, trainX, trainY, cv=3)"
   ]
  },
  {
   "cell_type": "code",
   "execution_count": 30,
   "id": "80d48072",
   "metadata": {},
   "outputs": [
    {
     "data": {
      "text/plain": [
       "array([[ 77,   0,   2,   5],\n",
       "       [  0,  21,   0,   7],\n",
       "       [  9,   0,  27,   1],\n",
       "       [  3,   6,   0, 102]], dtype=int64)"
      ]
     },
     "execution_count": 30,
     "metadata": {},
     "output_type": "execute_result"
    }
   ],
   "source": [
    "from sklearn.metrics import confusion_matrix\n",
    "confusion_matrix(trainY, y_train_pred)"
   ]
  },
  {
   "cell_type": "markdown",
   "id": "22b1df23",
   "metadata": {},
   "source": [
    "The confusion matrix shows the diagoanl values is higher than the others. The diagonal values are for all positive values."
   ]
  },
  {
   "cell_type": "markdown",
   "id": "22dad012",
   "metadata": {},
   "source": [
    "#### Stochastic Gradient Descent Classififier"
   ]
  },
  {
   "cell_type": "code",
   "execution_count": 31,
   "id": "119116c4",
   "metadata": {},
   "outputs": [
    {
     "data": {
      "text/plain": [
       "SGDClassifier(random_state=42)"
      ]
     },
     "execution_count": 31,
     "metadata": {},
     "output_type": "execute_result"
    }
   ],
   "source": [
    "from sklearn.linear_model import SGDClassifier\n",
    "sgd_clf = SGDClassifier(random_state=42)\n",
    "sgd_clf.fit(trainX, trainY)"
   ]
  },
  {
   "cell_type": "code",
   "execution_count": 32,
   "id": "300c701f",
   "metadata": {},
   "outputs": [
    {
     "data": {
      "text/plain": [
       "array([0.81609195, 0.87356322, 0.72093023])"
      ]
     },
     "execution_count": 32,
     "metadata": {},
     "output_type": "execute_result"
    }
   ],
   "source": [
    "cross_val_score(sgd_clf, trainX, trainY, cv=3, scoring=\"accuracy\")"
   ]
  },
  {
   "cell_type": "markdown",
   "id": "249c2add",
   "metadata": {},
   "source": [
    "The accuracy score is lower than the SVM OVO classifier."
   ]
  },
  {
   "cell_type": "code",
   "execution_count": 33,
   "id": "fcfcd0d9",
   "metadata": {},
   "outputs": [
    {
     "data": {
      "text/plain": [
       "array([[68,  1, 11,  4],\n",
       "       [ 1, 24,  0,  3],\n",
       "       [ 5,  0, 31,  1],\n",
       "       [15, 10,  0, 86]], dtype=int64)"
      ]
     },
     "execution_count": 33,
     "metadata": {},
     "output_type": "execute_result"
    }
   ],
   "source": [
    "y_train_pred = cross_val_predict(sgd_clf, trainX, trainY, cv=3)\n",
    "confusion_matrix(trainY, y_train_pred)"
   ]
  },
  {
   "cell_type": "markdown",
   "id": "0e961c84",
   "metadata": {},
   "source": [
    "The diagonal values also lower than the previous OVO classifier."
   ]
  },
  {
   "cell_type": "markdown",
   "id": "9083da5f",
   "metadata": {},
   "source": [
    "SVC classifier with another parameters."
   ]
  },
  {
   "cell_type": "code",
   "execution_count": 34,
   "id": "1bb4f3d9",
   "metadata": {},
   "outputs": [
    {
     "data": {
      "text/plain": [
       "SVC(decision_function_shape='ovo', kernel='linear', shrinking=False)"
      ]
     },
     "execution_count": 34,
     "metadata": {},
     "output_type": "execute_result"
    }
   ],
   "source": [
    "from sklearn.svm import SVC\n",
    "SVCClf = SVC(decision_function_shape = 'ovo',kernel = 'linear',gamma = 'scale', shrinking = False,)\n",
    "SVCClf.fit(trainX, trainY)"
   ]
  },
  {
   "cell_type": "code",
   "execution_count": 35,
   "id": "4683815e",
   "metadata": {},
   "outputs": [
    {
     "data": {
      "text/plain": [
       "array([0.87356322, 0.87356322, 0.79069767])"
      ]
     },
     "execution_count": 35,
     "metadata": {},
     "output_type": "execute_result"
    }
   ],
   "source": [
    "cross_val_score(SVCClf, trainX, trainY, cv=3, scoring=\"accuracy\")"
   ]
  },
  {
   "cell_type": "code",
   "execution_count": 36,
   "id": "c5b8c519",
   "metadata": {},
   "outputs": [
    {
     "data": {
      "text/plain": [
       "array([[76,  0,  3,  5],\n",
       "       [ 0, 21,  0,  7],\n",
       "       [12,  0, 24,  1],\n",
       "       [ 5,  7,  0, 99]], dtype=int64)"
      ]
     },
     "execution_count": 36,
     "metadata": {},
     "output_type": "execute_result"
    }
   ],
   "source": [
    "svc_y_train_pred = cross_val_predict(SVCClf, trainX, trainY, cv=3)\n",
    "confusion_matrix(trainY, svc_y_train_pred)"
   ]
  },
  {
   "cell_type": "markdown",
   "id": "852edd70",
   "metadata": {},
   "source": [
    "The accuracy scoring and the cofusion matrix is little bit loweer than the previous OVO classifier."
   ]
  },
  {
   "cell_type": "markdown",
   "id": "da9c023a",
   "metadata": {},
   "source": [
    "SGDC classifier with another parameter 'hinge'."
   ]
  },
  {
   "cell_type": "code",
   "execution_count": 37,
   "id": "9df67878",
   "metadata": {},
   "outputs": [
    {
     "data": {
      "text/plain": [
       "SGDClassifier()"
      ]
     },
     "execution_count": 37,
     "metadata": {},
     "output_type": "execute_result"
    }
   ],
   "source": [
    "from sklearn.linear_model import SGDClassifier\n",
    "sgd_clf_l = SGDClassifier(loss=\"hinge\")\n",
    "sgd_clf_l.fit(trainX, trainY)"
   ]
  },
  {
   "cell_type": "code",
   "execution_count": 38,
   "id": "b955078c",
   "metadata": {},
   "outputs": [
    {
     "data": {
      "text/plain": [
       "array([0.75862069, 0.74712644, 0.8372093 ])"
      ]
     },
     "execution_count": 38,
     "metadata": {},
     "output_type": "execute_result"
    }
   ],
   "source": [
    "cross_val_score(sgd_clf_l, trainX, trainY, cv=3, scoring=\"accuracy\")"
   ]
  },
  {
   "cell_type": "code",
   "execution_count": 39,
   "id": "f207813c",
   "metadata": {},
   "outputs": [
    {
     "data": {
      "text/plain": [
       "array([[68,  0,  8,  8],\n",
       "       [ 0, 19,  0,  9],\n",
       "       [12,  0, 24,  1],\n",
       "       [12,  1,  0, 98]], dtype=int64)"
      ]
     },
     "execution_count": 39,
     "metadata": {},
     "output_type": "execute_result"
    }
   ],
   "source": [
    "sgdcl_y_train_pred = cross_val_predict(sgd_clf_l, trainX, trainY, cv=3)\n",
    "confusion_matrix(trainY, sgdcl_y_train_pred)"
   ]
  },
  {
   "cell_type": "markdown",
   "id": "446b43df",
   "metadata": {},
   "source": [
    "The values shows that SVC OVO is better than SGDC classifier."
   ]
  },
  {
   "cell_type": "markdown",
   "id": "9e924eef",
   "metadata": {},
   "source": [
    "#### Using classifiers for testing set."
   ]
  },
  {
   "cell_type": "code",
   "execution_count": 40,
   "id": "fe302d79",
   "metadata": {},
   "outputs": [],
   "source": [
    "x_test = df_testing_tr\n",
    "y_test = df_testing['class']\n",
    "trainX_test, testX_test, trainY_test, testY_test = train_test_split(x_test, y_test, test_size = 0.2)"
   ]
  },
  {
   "cell_type": "code",
   "execution_count": 41,
   "id": "27c104e7",
   "metadata": {},
   "outputs": [
    {
     "name": "stdout",
     "output_type": "stream",
     "text": [
      "Accuracy of OvO Classifier with SVC: 0.78\n"
     ]
    }
   ],
   "source": [
    "OvO_SVC_clf_test = OneVsOneClassifier(SVC(decision_function_shape = 'ovo'))\n",
    "\n",
    "OvO_SVC_clf_test.fit(trainX_test, trainY_test)\n",
    "\n",
    "y_pred_test = OvO_SVC_clf.predict(testX_test)\n",
    "\n",
    "print('Accuracy of OvO Classifier with SVC: {:.2f}'.format(accuracy_score(testY_test, y_pred_test)))"
   ]
  },
  {
   "cell_type": "markdown",
   "id": "b10c8f35",
   "metadata": {},
   "source": [
    "The accuracy is 78%."
   ]
  },
  {
   "cell_type": "code",
   "execution_count": 42,
   "id": "b737d9ab",
   "metadata": {},
   "outputs": [
    {
     "data": {
      "text/plain": [
       "array([0.9245283 , 0.90566038, 0.98076923])"
      ]
     },
     "execution_count": 42,
     "metadata": {},
     "output_type": "execute_result"
    }
   ],
   "source": [
    "cross_val_score(OvO_SVC_clf_test, trainX_test, trainY_test, cv=3, scoring=\"accuracy\")"
   ]
  },
  {
   "cell_type": "code",
   "execution_count": 44,
   "id": "0ba34a98",
   "metadata": {},
   "outputs": [
    {
     "data": {
      "text/plain": [
       "array([[45,  0,  1,  0],\n",
       "       [ 0, 31,  0,  2],\n",
       "       [ 3,  0, 28,  0],\n",
       "       [ 1,  3,  0, 44]], dtype=int64)"
      ]
     },
     "execution_count": 44,
     "metadata": {},
     "output_type": "execute_result"
    }
   ],
   "source": [
    "y_train_pred_test = cross_val_predict(OvO_SVC_clf_test, trainX_test, trainY_test, cv=3)\n",
    "confusion_matrix(trainY_test, y_train_pred_test)"
   ]
  },
  {
   "cell_type": "markdown",
   "id": "5fd93f01",
   "metadata": {},
   "source": [
    "The confusion matrix shows better values."
   ]
  },
  {
   "cell_type": "markdown",
   "id": "15ce2d0e",
   "metadata": {},
   "source": [
    "#### Stochastic Gradient Descent Classififier on testing data"
   ]
  },
  {
   "cell_type": "code",
   "execution_count": 45,
   "id": "5c543afe",
   "metadata": {},
   "outputs": [
    {
     "data": {
      "text/plain": [
       "SGDClassifier(random_state=42)"
      ]
     },
     "execution_count": 45,
     "metadata": {},
     "output_type": "execute_result"
    }
   ],
   "source": [
    "sgd_clf.fit(trainX_test, trainY_test)"
   ]
  },
  {
   "cell_type": "code",
   "execution_count": 47,
   "id": "c86532f0",
   "metadata": {},
   "outputs": [
    {
     "data": {
      "text/plain": [
       "array([0.94339623, 0.9245283 , 0.94230769])"
      ]
     },
     "execution_count": 47,
     "metadata": {},
     "output_type": "execute_result"
    }
   ],
   "source": [
    "cross_val_score(sgd_clf, trainX_test, trainY_test, cv=3, scoring=\"accuracy\")"
   ]
  },
  {
   "cell_type": "code",
   "execution_count": 48,
   "id": "1bff2360",
   "metadata": {},
   "outputs": [
    {
     "data": {
      "text/plain": [
       "array([[44,  0,  2,  0],\n",
       "       [ 0, 31,  0,  2],\n",
       "       [ 2,  1, 28,  0],\n",
       "       [ 0,  2,  1, 45]], dtype=int64)"
      ]
     },
     "execution_count": 48,
     "metadata": {},
     "output_type": "execute_result"
    }
   ],
   "source": [
    "y_train_pred_test = cross_val_predict(sgd_clf, trainX_test, trainY_test, cv=3)\n",
    "confusion_matrix(trainY_test, y_train_pred_test)"
   ]
  },
  {
   "cell_type": "markdown",
   "id": "cb87ee4c",
   "metadata": {},
   "source": [
    "Much similar to SVM OVO."
   ]
  },
  {
   "cell_type": "code",
   "execution_count": 49,
   "id": "812db9be",
   "metadata": {},
   "outputs": [
    {
     "data": {
      "text/plain": [
       "array([0.9245283 , 0.9245283 , 0.96153846])"
      ]
     },
     "execution_count": 49,
     "metadata": {},
     "output_type": "execute_result"
    }
   ],
   "source": [
    "SVCClf.fit(trainX_test, trainY_test)\n",
    "cross_val_score(SVCClf, trainX_test, trainY_test, cv=3, scoring=\"accuracy\")"
   ]
  },
  {
   "cell_type": "code",
   "execution_count": 50,
   "id": "dd28ab3a",
   "metadata": {},
   "outputs": [
    {
     "data": {
      "text/plain": [
       "array([[45,  0,  1,  0],\n",
       "       [ 0, 30,  0,  3],\n",
       "       [ 1,  1, 29,  0],\n",
       "       [ 1,  3,  0, 44]], dtype=int64)"
      ]
     },
     "execution_count": 50,
     "metadata": {},
     "output_type": "execute_result"
    }
   ],
   "source": [
    "svc_y_train_pred_test = cross_val_predict(SVCClf, trainX_test, trainY_test, cv=3)\n",
    "confusion_matrix(trainY_test, svc_y_train_pred_test)"
   ]
  },
  {
   "cell_type": "code",
   "execution_count": 51,
   "id": "bb5b1561",
   "metadata": {},
   "outputs": [
    {
     "data": {
      "text/plain": [
       "array([0.87356322, 0.81609195, 0.74418605])"
      ]
     },
     "execution_count": 51,
     "metadata": {},
     "output_type": "execute_result"
    }
   ],
   "source": [
    "sgd_clf_l.fit(trainX_test, trainY_test)\n",
    "cross_val_score(sgd_clf_l, trainX, trainY, cv=3, scoring=\"accuracy\")"
   ]
  },
  {
   "cell_type": "code",
   "execution_count": 52,
   "id": "c34def32",
   "metadata": {},
   "outputs": [
    {
     "data": {
      "text/plain": [
       "array([[43,  0,  2,  1],\n",
       "       [ 0, 33,  0,  0],\n",
       "       [ 3,  0, 27,  1],\n",
       "       [ 2,  7,  0, 39]], dtype=int64)"
      ]
     },
     "execution_count": 52,
     "metadata": {},
     "output_type": "execute_result"
    }
   ],
   "source": [
    "sgdcl_y_test_pred = cross_val_predict(sgd_clf_l, trainX_test, trainY_test, cv=3)\n",
    "confusion_matrix(trainY_test, sgdcl_y_test_pred)"
   ]
  },
  {
   "cell_type": "markdown",
   "id": "a4e35a94",
   "metadata": {},
   "source": [
    "Applying on both training.csv and testing.csv it is clear that Support Vector Machine Classififier using the one-versus-one strategy gives better result."
   ]
  }
 ],
 "metadata": {
  "kernelspec": {
   "display_name": "Python 3 (ipykernel)",
   "language": "python",
   "name": "python3"
  },
  "language_info": {
   "codemirror_mode": {
    "name": "ipython",
    "version": 3
   },
   "file_extension": ".py",
   "mimetype": "text/x-python",
   "name": "python",
   "nbconvert_exporter": "python",
   "pygments_lexer": "ipython3",
   "version": "3.8.5"
  }
 },
 "nbformat": 4,
 "nbformat_minor": 5
}
