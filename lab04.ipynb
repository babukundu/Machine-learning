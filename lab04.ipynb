{
 "cells": [
  {
   "cell_type": "markdown",
   "id": "38ab4307",
   "metadata": {},
   "source": [
    "## Project 1"
   ]
  },
  {
   "cell_type": "code",
   "execution_count": 17,
   "id": "2862ba7b",
   "metadata": {},
   "outputs": [
    {
     "data": {
      "text/html": [
       "<div>\n",
       "<style scoped>\n",
       "    .dataframe tbody tr th:only-of-type {\n",
       "        vertical-align: middle;\n",
       "    }\n",
       "\n",
       "    .dataframe tbody tr th {\n",
       "        vertical-align: top;\n",
       "    }\n",
       "\n",
       "    .dataframe thead th {\n",
       "        text-align: right;\n",
       "    }\n",
       "</style>\n",
       "<table border=\"1\" class=\"dataframe\">\n",
       "  <thead>\n",
       "    <tr style=\"text-align: right;\">\n",
       "      <th></th>\n",
       "      <th>No</th>\n",
       "      <th>Cement</th>\n",
       "      <th>Slag</th>\n",
       "      <th>Fly ash</th>\n",
       "      <th>Water</th>\n",
       "      <th>SP</th>\n",
       "      <th>Coarse Aggr.</th>\n",
       "      <th>Fine Aggr.</th>\n",
       "      <th>SLUMP(cm)</th>\n",
       "      <th>FLOW(cm)</th>\n",
       "      <th>Compressive Strength (28-day)(Mpa)</th>\n",
       "    </tr>\n",
       "  </thead>\n",
       "  <tbody>\n",
       "    <tr>\n",
       "      <th>0</th>\n",
       "      <td>1</td>\n",
       "      <td>273.0</td>\n",
       "      <td>82.0</td>\n",
       "      <td>105.0</td>\n",
       "      <td>210.0</td>\n",
       "      <td>9.0</td>\n",
       "      <td>904.0</td>\n",
       "      <td>680.0</td>\n",
       "      <td>23.0</td>\n",
       "      <td>62.0</td>\n",
       "      <td>34.99</td>\n",
       "    </tr>\n",
       "    <tr>\n",
       "      <th>1</th>\n",
       "      <td>2</td>\n",
       "      <td>163.0</td>\n",
       "      <td>149.0</td>\n",
       "      <td>191.0</td>\n",
       "      <td>180.0</td>\n",
       "      <td>12.0</td>\n",
       "      <td>843.0</td>\n",
       "      <td>746.0</td>\n",
       "      <td>0.0</td>\n",
       "      <td>20.0</td>\n",
       "      <td>41.14</td>\n",
       "    </tr>\n",
       "    <tr>\n",
       "      <th>2</th>\n",
       "      <td>3</td>\n",
       "      <td>162.0</td>\n",
       "      <td>148.0</td>\n",
       "      <td>191.0</td>\n",
       "      <td>179.0</td>\n",
       "      <td>16.0</td>\n",
       "      <td>840.0</td>\n",
       "      <td>743.0</td>\n",
       "      <td>1.0</td>\n",
       "      <td>20.0</td>\n",
       "      <td>41.81</td>\n",
       "    </tr>\n",
       "    <tr>\n",
       "      <th>3</th>\n",
       "      <td>4</td>\n",
       "      <td>162.0</td>\n",
       "      <td>148.0</td>\n",
       "      <td>190.0</td>\n",
       "      <td>179.0</td>\n",
       "      <td>19.0</td>\n",
       "      <td>838.0</td>\n",
       "      <td>741.0</td>\n",
       "      <td>3.0</td>\n",
       "      <td>21.5</td>\n",
       "      <td>42.08</td>\n",
       "    </tr>\n",
       "    <tr>\n",
       "      <th>4</th>\n",
       "      <td>5</td>\n",
       "      <td>154.0</td>\n",
       "      <td>112.0</td>\n",
       "      <td>144.0</td>\n",
       "      <td>220.0</td>\n",
       "      <td>10.0</td>\n",
       "      <td>923.0</td>\n",
       "      <td>658.0</td>\n",
       "      <td>20.0</td>\n",
       "      <td>64.0</td>\n",
       "      <td>26.82</td>\n",
       "    </tr>\n",
       "  </tbody>\n",
       "</table>\n",
       "</div>"
      ],
      "text/plain": [
       "   No  Cement   Slag  Fly ash  Water    SP  Coarse Aggr.  Fine Aggr.  \\\n",
       "0   1   273.0   82.0    105.0  210.0   9.0         904.0       680.0   \n",
       "1   2   163.0  149.0    191.0  180.0  12.0         843.0       746.0   \n",
       "2   3   162.0  148.0    191.0  179.0  16.0         840.0       743.0   \n",
       "3   4   162.0  148.0    190.0  179.0  19.0         838.0       741.0   \n",
       "4   5   154.0  112.0    144.0  220.0  10.0         923.0       658.0   \n",
       "\n",
       "   SLUMP(cm)  FLOW(cm)  Compressive Strength (28-day)(Mpa)  \n",
       "0       23.0      62.0                               34.99  \n",
       "1        0.0      20.0                               41.14  \n",
       "2        1.0      20.0                               41.81  \n",
       "3        3.0      21.5                               42.08  \n",
       "4       20.0      64.0                               26.82  "
      ]
     },
     "execution_count": 17,
     "metadata": {},
     "output_type": "execute_result"
    }
   ],
   "source": [
    "### Import necessary libraries, setting working directory and fect the data.\n",
    "import os\n",
    "import tarfile\n",
    "import pandas as pd\n",
    "import numpy as np\n",
    "from six.moves import urllib\n",
    "\n",
    "DATA_PATH = \"D:/uwa/Machinelearning/Lab04/\"\n",
    "def load_train_data(data_path=DATA_PATH): # a function defined for load train data\n",
    " csv_path = os.path.join(data_path, \"slump_test.data\")\n",
    " return pd.read_csv(csv_path)\n",
    "dataframe = load_train_data()\n",
    "dataframe.head()"
   ]
  },
  {
   "cell_type": "code",
   "execution_count": 3,
   "id": "4106bc40",
   "metadata": {},
   "outputs": [
    {
     "name": "stdout",
     "output_type": "stream",
     "text": [
      "<class 'pandas.core.frame.DataFrame'>\n",
      "RangeIndex: 103 entries, 0 to 102\n",
      "Data columns (total 11 columns):\n",
      " #   Column                              Non-Null Count  Dtype  \n",
      "---  ------                              --------------  -----  \n",
      " 0   No                                  103 non-null    int64  \n",
      " 1   Cement                              103 non-null    float64\n",
      " 2   Slag                                103 non-null    float64\n",
      " 3   Fly ash                             103 non-null    float64\n",
      " 4   Water                               103 non-null    float64\n",
      " 5   SP                                  103 non-null    float64\n",
      " 6   Coarse Aggr.                        103 non-null    float64\n",
      " 7   Fine Aggr.                          103 non-null    float64\n",
      " 8   SLUMP(cm)                           103 non-null    float64\n",
      " 9   FLOW(cm)                            103 non-null    float64\n",
      " 10  Compressive Strength (28-day)(Mpa)  103 non-null    float64\n",
      "dtypes: float64(10), int64(1)\n",
      "memory usage: 9.0 KB\n"
     ]
    }
   ],
   "source": [
    "dataframe.info()"
   ]
  },
  {
   "cell_type": "code",
   "execution_count": 4,
   "id": "b485c52f",
   "metadata": {},
   "outputs": [
    {
     "data": {
      "text/plain": [
       "Compressive Strength (28-day)(Mpa)    1.000000\n",
       "Cement                                0.445725\n",
       "Fly ash                               0.444393\n",
       "No                                    0.186274\n",
       "SP                                   -0.037871\n",
       "FLOW(cm)                             -0.124029\n",
       "Fine Aggr.                           -0.154484\n",
       "Coarse Aggr.                         -0.160684\n",
       "SLUMP(cm)                            -0.223358\n",
       "Water                                -0.254235\n",
       "Slag                                 -0.331588\n",
       "Name: Compressive Strength (28-day)(Mpa), dtype: float64"
      ]
     },
     "execution_count": 4,
     "metadata": {},
     "output_type": "execute_result"
    }
   ],
   "source": [
    "corr_matrix = dataframe.corr()\n",
    "corr_matrix[\"Compressive Strength (28-day)(Mpa)\"].sort_values(ascending=False)#see page 67"
   ]
  },
  {
   "cell_type": "code",
   "execution_count": 5,
   "id": "0d1f3e5e",
   "metadata": {},
   "outputs": [],
   "source": [
    "df_drop_data = dataframe.drop(columns=['SLUMP(cm)','FLOW(cm)'])"
   ]
  },
  {
   "cell_type": "code",
   "execution_count": 6,
   "id": "9834ad9f",
   "metadata": {},
   "outputs": [
    {
     "data": {
      "text/html": [
       "<div>\n",
       "<style scoped>\n",
       "    .dataframe tbody tr th:only-of-type {\n",
       "        vertical-align: middle;\n",
       "    }\n",
       "\n",
       "    .dataframe tbody tr th {\n",
       "        vertical-align: top;\n",
       "    }\n",
       "\n",
       "    .dataframe thead th {\n",
       "        text-align: right;\n",
       "    }\n",
       "</style>\n",
       "<table border=\"1\" class=\"dataframe\">\n",
       "  <thead>\n",
       "    <tr style=\"text-align: right;\">\n",
       "      <th></th>\n",
       "      <th>No</th>\n",
       "      <th>Cement</th>\n",
       "      <th>Slag</th>\n",
       "      <th>Fly ash</th>\n",
       "      <th>Water</th>\n",
       "      <th>SP</th>\n",
       "      <th>Coarse Aggr.</th>\n",
       "      <th>Fine Aggr.</th>\n",
       "      <th>Compressive Strength (28-day)(Mpa)</th>\n",
       "    </tr>\n",
       "  </thead>\n",
       "  <tbody>\n",
       "    <tr>\n",
       "      <th>0</th>\n",
       "      <td>1</td>\n",
       "      <td>273.0</td>\n",
       "      <td>82.0</td>\n",
       "      <td>105.0</td>\n",
       "      <td>210.0</td>\n",
       "      <td>9.0</td>\n",
       "      <td>904.0</td>\n",
       "      <td>680.0</td>\n",
       "      <td>34.99</td>\n",
       "    </tr>\n",
       "    <tr>\n",
       "      <th>1</th>\n",
       "      <td>2</td>\n",
       "      <td>163.0</td>\n",
       "      <td>149.0</td>\n",
       "      <td>191.0</td>\n",
       "      <td>180.0</td>\n",
       "      <td>12.0</td>\n",
       "      <td>843.0</td>\n",
       "      <td>746.0</td>\n",
       "      <td>41.14</td>\n",
       "    </tr>\n",
       "    <tr>\n",
       "      <th>2</th>\n",
       "      <td>3</td>\n",
       "      <td>162.0</td>\n",
       "      <td>148.0</td>\n",
       "      <td>191.0</td>\n",
       "      <td>179.0</td>\n",
       "      <td>16.0</td>\n",
       "      <td>840.0</td>\n",
       "      <td>743.0</td>\n",
       "      <td>41.81</td>\n",
       "    </tr>\n",
       "    <tr>\n",
       "      <th>3</th>\n",
       "      <td>4</td>\n",
       "      <td>162.0</td>\n",
       "      <td>148.0</td>\n",
       "      <td>190.0</td>\n",
       "      <td>179.0</td>\n",
       "      <td>19.0</td>\n",
       "      <td>838.0</td>\n",
       "      <td>741.0</td>\n",
       "      <td>42.08</td>\n",
       "    </tr>\n",
       "    <tr>\n",
       "      <th>4</th>\n",
       "      <td>5</td>\n",
       "      <td>154.0</td>\n",
       "      <td>112.0</td>\n",
       "      <td>144.0</td>\n",
       "      <td>220.0</td>\n",
       "      <td>10.0</td>\n",
       "      <td>923.0</td>\n",
       "      <td>658.0</td>\n",
       "      <td>26.82</td>\n",
       "    </tr>\n",
       "  </tbody>\n",
       "</table>\n",
       "</div>"
      ],
      "text/plain": [
       "   No  Cement   Slag  Fly ash  Water    SP  Coarse Aggr.  Fine Aggr.  \\\n",
       "0   1   273.0   82.0    105.0  210.0   9.0         904.0       680.0   \n",
       "1   2   163.0  149.0    191.0  180.0  12.0         843.0       746.0   \n",
       "2   3   162.0  148.0    191.0  179.0  16.0         840.0       743.0   \n",
       "3   4   162.0  148.0    190.0  179.0  19.0         838.0       741.0   \n",
       "4   5   154.0  112.0    144.0  220.0  10.0         923.0       658.0   \n",
       "\n",
       "   Compressive Strength (28-day)(Mpa)  \n",
       "0                               34.99  \n",
       "1                               41.14  \n",
       "2                               41.81  \n",
       "3                               42.08  \n",
       "4                               26.82  "
      ]
     },
     "execution_count": 6,
     "metadata": {},
     "output_type": "execute_result"
    }
   ],
   "source": [
    "df_drop_data.head()"
   ]
  },
  {
   "cell_type": "code",
   "execution_count": 7,
   "id": "76e134bb",
   "metadata": {},
   "outputs": [
    {
     "name": "stdout",
     "output_type": "stream",
     "text": [
      "False\n"
     ]
    }
   ],
   "source": [
    "check_nan_in_df = df_drop_data.isnull().values.any()\n",
    "print (check_nan_in_df)"
   ]
  },
  {
   "cell_type": "code",
   "execution_count": 8,
   "id": "0040085c",
   "metadata": {},
   "outputs": [
    {
     "data": {
      "image/png": "[encoded data removed]",
      "text/plain": [
       "<Figure size 1440x1080 with 9 Axes>"
      ]
     },
     "metadata": {
      "needs_background": "light"
     },
     "output_type": "display_data"
    }
   ],
   "source": [
    "%matplotlib inline \n",
    "import matplotlib.pyplot as plt\n",
    "df_drop_data.hist(bins=50, figsize=(20,15))\n",
    "plt.show()"
   ]
  },
  {
   "cell_type": "code",
   "execution_count": 9,
   "id": "c99621de",
   "metadata": {},
   "outputs": [
    {
     "data": {
      "text/html": [
       "<style type=\"text/css\">\n",
       "#T_3d206_row0_col0, #T_3d206_row1_col1, #T_3d206_row2_col2, #T_3d206_row3_col3, #T_3d206_row4_col4, #T_3d206_row5_col5, #T_3d206_row6_col6, #T_3d206_row7_col7, #T_3d206_row8_col8 {\n",
       "  background-color: #08306b;\n",
       "  color: #f1f1f1;\n",
       "}\n",
       "#T_3d206_row0_col1 {\n",
       "  background-color: #b4d3e9;\n",
       "  color: #000000;\n",
       "}\n",
       "#T_3d206_row0_col2, #T_3d206_row2_col0 {\n",
       "  background-color: #d2e3f3;\n",
       "  color: #000000;\n",
       "}\n",
       "#T_3d206_row0_col3 {\n",
       "  background-color: #58a1cf;\n",
       "  color: #f1f1f1;\n",
       "}\n",
       "#T_3d206_row0_col4 {\n",
       "  background-color: #b9d6ea;\n",
       "  color: #000000;\n",
       "}\n",
       "#T_3d206_row0_col5, #T_3d206_row1_col3, #T_3d206_row2_col8, #T_3d206_row3_col1, #T_3d206_row4_col6, #T_3d206_row5_col0, #T_3d206_row6_col4, #T_3d206_row6_col7, #T_3d206_row8_col2 {\n",
       "  background-color: #f7fbff;\n",
       "  color: #000000;\n",
       "}\n",
       "#T_3d206_row0_col6, #T_3d206_row1_col4 {\n",
       "  background-color: #66abd4;\n",
       "  color: #f1f1f1;\n",
       "}\n",
       "#T_3d206_row0_col7 {\n",
       "  background-color: #e0ecf8;\n",
       "  color: #000000;\n",
       "}\n",
       "#T_3d206_row0_col8, #T_3d206_row8_col0 {\n",
       "  background-color: #99c7e0;\n",
       "  color: #000000;\n",
       "}\n",
       "#T_3d206_row1_col0, #T_3d206_row4_col2 {\n",
       "  background-color: #cadef0;\n",
       "  color: #000000;\n",
       "}\n",
       "#T_3d206_row1_col2 {\n",
       "  background-color: #eaf3fb;\n",
       "  color: #000000;\n",
       "}\n",
       "#T_3d206_row1_col5 {\n",
       "  background-color: #d6e5f4;\n",
       "  color: #000000;\n",
       "}\n",
       "#T_3d206_row1_col6 {\n",
       "  background-color: #d3e4f3;\n",
       "  color: #000000;\n",
       "}\n",
       "#T_3d206_row1_col7, #T_3d206_row7_col1 {\n",
       "  background-color: #a1cbe2;\n",
       "  color: #000000;\n",
       "}\n",
       "#T_3d206_row1_col8, #T_3d206_row3_col8 {\n",
       "  background-color: #4f9bcb;\n",
       "  color: #f1f1f1;\n",
       "}\n",
       "#T_3d206_row2_col1 {\n",
       "  background-color: #d7e6f5;\n",
       "  color: #000000;\n",
       "}\n",
       "#T_3d206_row2_col3, #T_3d206_row7_col2 {\n",
       "  background-color: #e1edf8;\n",
       "  color: #000000;\n",
       "}\n",
       "#T_3d206_row2_col4 {\n",
       "  background-color: #a4cce3;\n",
       "  color: #000000;\n",
       "}\n",
       "#T_3d206_row2_col5, #T_3d206_row5_col2 {\n",
       "  background-color: #74b3d8;\n",
       "  color: #000000;\n",
       "}\n",
       "#T_3d206_row2_col6 {\n",
       "  background-color: #c9ddf0;\n",
       "  color: #000000;\n",
       "}\n",
       "#T_3d206_row2_col7 {\n",
       "  background-color: #cfe1f2;\n",
       "  color: #000000;\n",
       "}\n",
       "#T_3d206_row3_col0 {\n",
       "  background-color: #69add5;\n",
       "  color: #f1f1f1;\n",
       "}\n",
       "#T_3d206_row3_col2 {\n",
       "  background-color: #f6faff;\n",
       "  color: #000000;\n",
       "}\n",
       "#T_3d206_row3_col4, #T_3d206_row8_col7 {\n",
       "  background-color: #cbdef1;\n",
       "  color: #000000;\n",
       "}\n",
       "#T_3d206_row3_col5 {\n",
       "  background-color: #dbe9f6;\n",
       "  color: #000000;\n",
       "}\n",
       "#T_3d206_row3_col6 {\n",
       "  background-color: #72b2d8;\n",
       "  color: #f1f1f1;\n",
       "}\n",
       "#T_3d206_row3_col7, #T_3d206_row7_col3 {\n",
       "  background-color: #dce9f6;\n",
       "  color: #000000;\n",
       "}\n",
       "#T_3d206_row4_col0 {\n",
       "  background-color: #dae8f6;\n",
       "  color: #000000;\n",
       "}\n",
       "#T_3d206_row4_col1 {\n",
       "  background-color: #75b4d8;\n",
       "  color: #000000;\n",
       "}\n",
       "#T_3d206_row4_col3 {\n",
       "  background-color: #d6e6f4;\n",
       "  color: #000000;\n",
       "}\n",
       "#T_3d206_row4_col5, #T_3d206_row7_col8 {\n",
       "  background-color: #dceaf6;\n",
       "  color: #000000;\n",
       "}\n",
       "#T_3d206_row4_col7 {\n",
       "  background-color: #92c4de;\n",
       "  color: #000000;\n",
       "}\n",
       "#T_3d206_row4_col8 {\n",
       "  background-color: #ecf4fb;\n",
       "  color: #000000;\n",
       "}\n",
       "#T_3d206_row5_col1 {\n",
       "  background-color: #c4daee;\n",
       "  color: #000000;\n",
       "}\n",
       "#T_3d206_row5_col3 {\n",
       "  background-color: #caddf0;\n",
       "  color: #000000;\n",
       "}\n",
       "#T_3d206_row5_col4 {\n",
       "  background-color: #bdd7ec;\n",
       "  color: #000000;\n",
       "}\n",
       "#T_3d206_row5_col6 {\n",
       "  background-color: #b3d3e8;\n",
       "  color: #000000;\n",
       "}\n",
       "#T_3d206_row5_col7 {\n",
       "  background-color: #a0cbe2;\n",
       "  color: #000000;\n",
       "}\n",
       "#T_3d206_row5_col8, #T_3d206_row8_col5 {\n",
       "  background-color: #ccdff1;\n",
       "  color: #000000;\n",
       "}\n",
       "#T_3d206_row6_col0 {\n",
       "  background-color: #8dc1dd;\n",
       "  color: #000000;\n",
       "}\n",
       "#T_3d206_row6_col1 {\n",
       "  background-color: #dfecf7;\n",
       "  color: #000000;\n",
       "}\n",
       "#T_3d206_row6_col2 {\n",
       "  background-color: #e7f1fa;\n",
       "  color: #000000;\n",
       "}\n",
       "#T_3d206_row6_col3 {\n",
       "  background-color: #82bbdb;\n",
       "  color: #000000;\n",
       "}\n",
       "#T_3d206_row6_col5 {\n",
       "  background-color: #d5e5f4;\n",
       "  color: #000000;\n",
       "}\n",
       "#T_3d206_row6_col8 {\n",
       "  background-color: #deebf7;\n",
       "  color: #000000;\n",
       "}\n",
       "#T_3d206_row7_col0 {\n",
       "  background-color: #f5f9fe;\n",
       "  color: #000000;\n",
       "}\n",
       "#T_3d206_row7_col4 {\n",
       "  background-color: #81badb;\n",
       "  color: #000000;\n",
       "}\n",
       "#T_3d206_row7_col5 {\n",
       "  background-color: #b8d5ea;\n",
       "  color: #000000;\n",
       "}\n",
       "#T_3d206_row7_col6 {\n",
       "  background-color: #e9f2fa;\n",
       "  color: #000000;\n",
       "}\n",
       "#T_3d206_row8_col1, #T_3d206_row8_col3 {\n",
       "  background-color: #4191c6;\n",
       "  color: #f1f1f1;\n",
       "}\n",
       "#T_3d206_row8_col4 {\n",
       "  background-color: #cddff1;\n",
       "  color: #000000;\n",
       "}\n",
       "#T_3d206_row8_col6 {\n",
       "  background-color: #bed8ec;\n",
       "  color: #000000;\n",
       "}\n",
       "</style>\n",
       "<table id=\"T_3d206\">\n",
       "  <thead>\n",
       "    <tr>\n",
       "      <th class=\"blank level0\" >&nbsp;</th>\n",
       "      <th id=\"T_3d206_level0_col0\" class=\"col_heading level0 col0\" >No</th>\n",
       "      <th id=\"T_3d206_level0_col1\" class=\"col_heading level0 col1\" >Cement</th>\n",
       "      <th id=\"T_3d206_level0_col2\" class=\"col_heading level0 col2\" >Slag</th>\n",
       "      <th id=\"T_3d206_level0_col3\" class=\"col_heading level0 col3\" >Fly ash</th>\n",
       "      <th id=\"T_3d206_level0_col4\" class=\"col_heading level0 col4\" >Water</th>\n",
       "      <th id=\"T_3d206_level0_col5\" class=\"col_heading level0 col5\" >SP</th>\n",
       "      <th id=\"T_3d206_level0_col6\" class=\"col_heading level0 col6\" >Coarse Aggr.</th>\n",
       "      <th id=\"T_3d206_level0_col7\" class=\"col_heading level0 col7\" >Fine Aggr.</th>\n",
       "      <th id=\"T_3d206_level0_col8\" class=\"col_heading level0 col8\" >Compressive Strength (28-day)(Mpa)</th>\n",
       "    </tr>\n",
       "  </thead>\n",
       "  <tbody>\n",
       "    <tr>\n",
       "      <th id=\"T_3d206_level0_row0\" class=\"row_heading level0 row0\" >No</th>\n",
       "      <td id=\"T_3d206_row0_col0\" class=\"data row0 col0\" >1.000000</td>\n",
       "      <td id=\"T_3d206_row0_col1\" class=\"data row0 col1\" >-0.031628</td>\n",
       "      <td id=\"T_3d206_row0_col2\" class=\"data row0 col2\" >-0.079806</td>\n",
       "      <td id=\"T_3d206_row0_col3\" class=\"data row0 col3\" >0.340834</td>\n",
       "      <td id=\"T_3d206_row0_col4\" class=\"data row0 col4\" >-0.138476</td>\n",
       "      <td id=\"T_3d206_row0_col5\" class=\"data row0 col5\" >-0.334644</td>\n",
       "      <td id=\"T_3d206_row0_col6\" class=\"data row0 col6\" >0.222075</td>\n",
       "      <td id=\"T_3d206_row0_col7\" class=\"data row0 col7\" >-0.314376</td>\n",
       "      <td id=\"T_3d206_row0_col8\" class=\"data row0 col8\" >0.186274</td>\n",
       "    </tr>\n",
       "    <tr>\n",
       "      <th id=\"T_3d206_level0_row1\" class=\"row_heading level0 row1\" >Cement</th>\n",
       "      <td id=\"T_3d206_row1_col0\" class=\"data row1 col0\" >-0.031628</td>\n",
       "      <td id=\"T_3d206_row1_col1\" class=\"data row1 col1\" >1.000000</td>\n",
       "      <td id=\"T_3d206_row1_col2\" class=\"data row1 col2\" >-0.243553</td>\n",
       "      <td id=\"T_3d206_row1_col3\" class=\"data row1 col3\" >-0.486535</td>\n",
       "      <td id=\"T_3d206_row1_col4\" class=\"data row1 col4\" >0.221091</td>\n",
       "      <td id=\"T_3d206_row1_col5\" class=\"data row1 col5\" >-0.106387</td>\n",
       "      <td id=\"T_3d206_row1_col6\" class=\"data row1 col6\" >-0.309857</td>\n",
       "      <td id=\"T_3d206_row1_col7\" class=\"data row1 col7\" >0.056959</td>\n",
       "      <td id=\"T_3d206_row1_col8\" class=\"data row1 col8\" >0.445725</td>\n",
       "    </tr>\n",
       "    <tr>\n",
       "      <th id=\"T_3d206_level0_row2\" class=\"row_heading level0 row2\" >Slag</th>\n",
       "      <td id=\"T_3d206_row2_col0\" class=\"data row2 col0\" >-0.079806</td>\n",
       "      <td id=\"T_3d206_row2_col1\" class=\"data row2 col1\" >-0.243553</td>\n",
       "      <td id=\"T_3d206_row2_col2\" class=\"data row2 col2\" >1.000000</td>\n",
       "      <td id=\"T_3d206_row2_col3\" class=\"data row2 col3\" >-0.322619</td>\n",
       "      <td id=\"T_3d206_row2_col4\" class=\"data row2 col4\" >-0.026775</td>\n",
       "      <td id=\"T_3d206_row2_col5\" class=\"data row2 col5\" >0.306504</td>\n",
       "      <td id=\"T_3d206_row2_col6\" class=\"data row2 col6\" >-0.223792</td>\n",
       "      <td id=\"T_3d206_row2_col7\" class=\"data row2 col7\" >-0.183522</td>\n",
       "      <td id=\"T_3d206_row2_col8\" class=\"data row2 col8\" >-0.331588</td>\n",
       "    </tr>\n",
       "    <tr>\n",
       "      <th id=\"T_3d206_level0_row3\" class=\"row_heading level0 row3\" >Fly ash</th>\n",
       "      <td id=\"T_3d206_row3_col0\" class=\"data row3 col0\" >0.340834</td>\n",
       "      <td id=\"T_3d206_row3_col1\" class=\"data row3 col1\" >-0.486535</td>\n",
       "      <td id=\"T_3d206_row3_col2\" class=\"data row3 col2\" >-0.322619</td>\n",
       "      <td id=\"T_3d206_row3_col3\" class=\"data row3 col3\" >1.000000</td>\n",
       "      <td id=\"T_3d206_row3_col4\" class=\"data row3 col4\" >-0.241321</td>\n",
       "      <td id=\"T_3d206_row3_col5\" class=\"data row3 col5\" >-0.143508</td>\n",
       "      <td id=\"T_3d206_row3_col6\" class=\"data row3 col6\" >0.172620</td>\n",
       "      <td id=\"T_3d206_row3_col7\" class=\"data row3 col7\" >-0.282854</td>\n",
       "      <td id=\"T_3d206_row3_col8\" class=\"data row3 col8\" >0.444393</td>\n",
       "    </tr>\n",
       "    <tr>\n",
       "      <th id=\"T_3d206_level0_row4\" class=\"row_heading level0 row4\" >Water</th>\n",
       "      <td id=\"T_3d206_row4_col0\" class=\"data row4 col0\" >-0.138476</td>\n",
       "      <td id=\"T_3d206_row4_col1\" class=\"data row4 col1\" >0.221091</td>\n",
       "      <td id=\"T_3d206_row4_col2\" class=\"data row4 col2\" >-0.026775</td>\n",
       "      <td id=\"T_3d206_row4_col3\" class=\"data row4 col3\" >-0.241321</td>\n",
       "      <td id=\"T_3d206_row4_col4\" class=\"data row4 col4\" >1.000000</td>\n",
       "      <td id=\"T_3d206_row4_col5\" class=\"data row4 col5\" >-0.155456</td>\n",
       "      <td id=\"T_3d206_row4_col6\" class=\"data row4 col6\" >-0.602201</td>\n",
       "      <td id=\"T_3d206_row4_col7\" class=\"data row4 col7\" >0.114591</td>\n",
       "      <td id=\"T_3d206_row4_col8\" class=\"data row4 col8\" >-0.254235</td>\n",
       "    </tr>\n",
       "    <tr>\n",
       "      <th id=\"T_3d206_level0_row5\" class=\"row_heading level0 row5\" >SP</th>\n",
       "      <td id=\"T_3d206_row5_col0\" class=\"data row5 col0\" >-0.334644</td>\n",
       "      <td id=\"T_3d206_row5_col1\" class=\"data row5 col1\" >-0.106387</td>\n",
       "      <td id=\"T_3d206_row5_col2\" class=\"data row5 col2\" >0.306504</td>\n",
       "      <td id=\"T_3d206_row5_col3\" class=\"data row5 col3\" >-0.143508</td>\n",
       "      <td id=\"T_3d206_row5_col4\" class=\"data row5 col4\" >-0.155456</td>\n",
       "      <td id=\"T_3d206_row5_col5\" class=\"data row5 col5\" >1.000000</td>\n",
       "      <td id=\"T_3d206_row5_col6\" class=\"data row5 col6\" >-0.104159</td>\n",
       "      <td id=\"T_3d206_row5_col7\" class=\"data row5 col7\" >0.058290</td>\n",
       "      <td id=\"T_3d206_row5_col8\" class=\"data row5 col8\" >-0.037871</td>\n",
       "    </tr>\n",
       "    <tr>\n",
       "      <th id=\"T_3d206_level0_row6\" class=\"row_heading level0 row6\" >Coarse Aggr.</th>\n",
       "      <td id=\"T_3d206_row6_col0\" class=\"data row6 col0\" >0.222075</td>\n",
       "      <td id=\"T_3d206_row6_col1\" class=\"data row6 col1\" >-0.309857</td>\n",
       "      <td id=\"T_3d206_row6_col2\" class=\"data row6 col2\" >-0.223792</td>\n",
       "      <td id=\"T_3d206_row6_col3\" class=\"data row6 col3\" >0.172620</td>\n",
       "      <td id=\"T_3d206_row6_col4\" class=\"data row6 col4\" >-0.602201</td>\n",
       "      <td id=\"T_3d206_row6_col5\" class=\"data row6 col5\" >-0.104159</td>\n",
       "      <td id=\"T_3d206_row6_col6\" class=\"data row6 col6\" >1.000000</td>\n",
       "      <td id=\"T_3d206_row6_col7\" class=\"data row6 col7\" >-0.488537</td>\n",
       "      <td id=\"T_3d206_row6_col8\" class=\"data row6 col8\" >-0.160684</td>\n",
       "    </tr>\n",
       "    <tr>\n",
       "      <th id=\"T_3d206_level0_row7\" class=\"row_heading level0 row7\" >Fine Aggr.</th>\n",
       "      <td id=\"T_3d206_row7_col0\" class=\"data row7 col0\" >-0.314376</td>\n",
       "      <td id=\"T_3d206_row7_col1\" class=\"data row7 col1\" >0.056959</td>\n",
       "      <td id=\"T_3d206_row7_col2\" class=\"data row7 col2\" >-0.183522</td>\n",
       "      <td id=\"T_3d206_row7_col3\" class=\"data row7 col3\" >-0.282854</td>\n",
       "      <td id=\"T_3d206_row7_col4\" class=\"data row7 col4\" >0.114591</td>\n",
       "      <td id=\"T_3d206_row7_col5\" class=\"data row7 col5\" >0.058290</td>\n",
       "      <td id=\"T_3d206_row7_col6\" class=\"data row7 col6\" >-0.488537</td>\n",
       "      <td id=\"T_3d206_row7_col7\" class=\"data row7 col7\" >1.000000</td>\n",
       "      <td id=\"T_3d206_row7_col8\" class=\"data row7 col8\" >-0.154484</td>\n",
       "    </tr>\n",
       "    <tr>\n",
       "      <th id=\"T_3d206_level0_row8\" class=\"row_heading level0 row8\" >Compressive Strength (28-day)(Mpa)</th>\n",
       "      <td id=\"T_3d206_row8_col0\" class=\"data row8 col0\" >0.186274</td>\n",
       "      <td id=\"T_3d206_row8_col1\" class=\"data row8 col1\" >0.445725</td>\n",
       "      <td id=\"T_3d206_row8_col2\" class=\"data row8 col2\" >-0.331588</td>\n",
       "      <td id=\"T_3d206_row8_col3\" class=\"data row8 col3\" >0.444393</td>\n",
       "      <td id=\"T_3d206_row8_col4\" class=\"data row8 col4\" >-0.254235</td>\n",
       "      <td id=\"T_3d206_row8_col5\" class=\"data row8 col5\" >-0.037871</td>\n",
       "      <td id=\"T_3d206_row8_col6\" class=\"data row8 col6\" >-0.160684</td>\n",
       "      <td id=\"T_3d206_row8_col7\" class=\"data row8 col7\" >-0.154484</td>\n",
       "      <td id=\"T_3d206_row8_col8\" class=\"data row8 col8\" >1.000000</td>\n",
       "    </tr>\n",
       "  </tbody>\n",
       "</table>\n"
      ],
      "text/plain": [
       "<pandas.io.formats.style.Styler at 0x1794e685a30>"
      ]
     },
     "execution_count": 9,
     "metadata": {},
     "output_type": "execute_result"
    }
   ],
   "source": [
    "df_drop_data.corr().style.background_gradient(cmap=\"Blues\")"
   ]
  },
  {
   "cell_type": "code",
   "execution_count": 10,
   "id": "7c73f1bc",
   "metadata": {},
   "outputs": [],
   "source": [
    "x=df_drop_data.drop(\"Compressive Strength (28-day)(Mpa)\",axis=1)\n",
    "y=df_drop_data[\"Compressive Strength (28-day)(Mpa)\"]"
   ]
  },
  {
   "cell_type": "code",
   "execution_count": 11,
   "id": "9ece8200",
   "metadata": {},
   "outputs": [
    {
     "data": {
      "text/html": [
       "<div>\n",
       "<style scoped>\n",
       "    .dataframe tbody tr th:only-of-type {\n",
       "        vertical-align: middle;\n",
       "    }\n",
       "\n",
       "    .dataframe tbody tr th {\n",
       "        vertical-align: top;\n",
       "    }\n",
       "\n",
       "    .dataframe thead th {\n",
       "        text-align: right;\n",
       "    }\n",
       "</style>\n",
       "<table border=\"1\" class=\"dataframe\">\n",
       "  <thead>\n",
       "    <tr style=\"text-align: right;\">\n",
       "      <th></th>\n",
       "      <th>No</th>\n",
       "      <th>Cement</th>\n",
       "      <th>Slag</th>\n",
       "      <th>Fly ash</th>\n",
       "      <th>Water</th>\n",
       "      <th>SP</th>\n",
       "      <th>Coarse Aggr.</th>\n",
       "      <th>Fine Aggr.</th>\n",
       "    </tr>\n",
       "  </thead>\n",
       "  <tbody>\n",
       "    <tr>\n",
       "      <th>0</th>\n",
       "      <td>1</td>\n",
       "      <td>273.0</td>\n",
       "      <td>82.0</td>\n",
       "      <td>105.0</td>\n",
       "      <td>210.0</td>\n",
       "      <td>9.0</td>\n",
       "      <td>904.0</td>\n",
       "      <td>680.0</td>\n",
       "    </tr>\n",
       "    <tr>\n",
       "      <th>1</th>\n",
       "      <td>2</td>\n",
       "      <td>163.0</td>\n",
       "      <td>149.0</td>\n",
       "      <td>191.0</td>\n",
       "      <td>180.0</td>\n",
       "      <td>12.0</td>\n",
       "      <td>843.0</td>\n",
       "      <td>746.0</td>\n",
       "    </tr>\n",
       "    <tr>\n",
       "      <th>2</th>\n",
       "      <td>3</td>\n",
       "      <td>162.0</td>\n",
       "      <td>148.0</td>\n",
       "      <td>191.0</td>\n",
       "      <td>179.0</td>\n",
       "      <td>16.0</td>\n",
       "      <td>840.0</td>\n",
       "      <td>743.0</td>\n",
       "    </tr>\n",
       "    <tr>\n",
       "      <th>3</th>\n",
       "      <td>4</td>\n",
       "      <td>162.0</td>\n",
       "      <td>148.0</td>\n",
       "      <td>190.0</td>\n",
       "      <td>179.0</td>\n",
       "      <td>19.0</td>\n",
       "      <td>838.0</td>\n",
       "      <td>741.0</td>\n",
       "    </tr>\n",
       "    <tr>\n",
       "      <th>4</th>\n",
       "      <td>5</td>\n",
       "      <td>154.0</td>\n",
       "      <td>112.0</td>\n",
       "      <td>144.0</td>\n",
       "      <td>220.0</td>\n",
       "      <td>10.0</td>\n",
       "      <td>923.0</td>\n",
       "      <td>658.0</td>\n",
       "    </tr>\n",
       "  </tbody>\n",
       "</table>\n",
       "</div>"
      ],
      "text/plain": [
       "   No  Cement   Slag  Fly ash  Water    SP  Coarse Aggr.  Fine Aggr.\n",
       "0   1   273.0   82.0    105.0  210.0   9.0         904.0       680.0\n",
       "1   2   163.0  149.0    191.0  180.0  12.0         843.0       746.0\n",
       "2   3   162.0  148.0    191.0  179.0  16.0         840.0       743.0\n",
       "3   4   162.0  148.0    190.0  179.0  19.0         838.0       741.0\n",
       "4   5   154.0  112.0    144.0  220.0  10.0         923.0       658.0"
      ]
     },
     "execution_count": 11,
     "metadata": {},
     "output_type": "execute_result"
    }
   ],
   "source": [
    "x.head()"
   ]
  },
  {
   "cell_type": "code",
   "execution_count": 12,
   "id": "11163f4a",
   "metadata": {},
   "outputs": [
    {
     "data": {
      "text/plain": [
       "0    34.99\n",
       "1    41.14\n",
       "2    41.81\n",
       "3    42.08\n",
       "4    26.82\n",
       "Name: Compressive Strength (28-day)(Mpa), dtype: float64"
      ]
     },
     "execution_count": 12,
     "metadata": {},
     "output_type": "execute_result"
    }
   ],
   "source": [
    "y.head()"
   ]
  },
  {
   "cell_type": "code",
   "execution_count": 13,
   "id": "2c91ab62",
   "metadata": {},
   "outputs": [],
   "source": [
    "from sklearn.model_selection import train_test_split\n",
    "trainX, testX, trainY, testY = train_test_split(x, y, test_size = 0.2)"
   ]
  },
  {
   "cell_type": "code",
   "execution_count": 14,
   "id": "d7000fe2",
   "metadata": {},
   "outputs": [
    {
     "data": {
      "text/plain": [
       "((82, 8), (21, 8))"
      ]
     },
     "execution_count": 14,
     "metadata": {},
     "output_type": "execute_result"
    }
   ],
   "source": [
    "trainX.shape,testX.shape"
   ]
  },
  {
   "cell_type": "code",
   "execution_count": 15,
   "id": "5a767a63",
   "metadata": {},
   "outputs": [
    {
     "name": "stderr",
     "output_type": "stream",
     "text": [
      "C:\\Users\\HP\\.conda\\envs\\cits5508-2022\\lib\\site-packages\\sklearn\\svm\\_base.py:1206: ConvergenceWarning: Liblinear failed to converge, increase the number of iterations.\n",
      "  warnings.warn(\n"
     ]
    },
    {
     "data": {
      "text/plain": [
       "LinearSVR(epsilon=1.5)"
      ]
     },
     "execution_count": 15,
     "metadata": {},
     "output_type": "execute_result"
    }
   ],
   "source": [
    "from sklearn.svm import LinearSVR\n",
    "svm_reg = LinearSVR(epsilon=1.5)\n",
    "svm_reg.fit(trainX, trainY)"
   ]
  },
  {
   "cell_type": "code",
   "execution_count": 18,
   "id": "096242cf",
   "metadata": {},
   "outputs": [
    {
     "data": {
      "text/plain": [
       "3.0345298545933974"
      ]
     },
     "execution_count": 18,
     "metadata": {},
     "output_type": "execute_result"
    }
   ],
   "source": [
    "from sklearn.metrics import mean_squared_error\n",
    "strength_predictions_lns = svm_reg.predict(trainX)\n",
    "lins_mse = mean_squared_error(trainY, strength_predictions_lns)\n",
    "lins_rmse = np.sqrt(lins_mse)\n",
    "lins_rmse"
   ]
  },
  {
   "cell_type": "code",
   "execution_count": 19,
   "id": "56f9ff50",
   "metadata": {},
   "outputs": [
    {
     "data": {
      "text/plain": [
       "LinearRegression()"
      ]
     },
     "execution_count": 19,
     "metadata": {},
     "output_type": "execute_result"
    }
   ],
   "source": [
    "from sklearn.linear_model import LinearRegression\n",
    "lin_reg = LinearRegression()\n",
    "lin_reg.fit(trainX, trainY)"
   ]
  },
  {
   "cell_type": "code",
   "execution_count": 20,
   "id": "66863f0b",
   "metadata": {},
   "outputs": [
    {
     "data": {
      "text/plain": [
       "2.5142018978209184"
      ]
     },
     "execution_count": 20,
     "metadata": {},
     "output_type": "execute_result"
    }
   ],
   "source": [
    "from sklearn.metrics import mean_squared_error\n",
    "strength_predictions_ln = lin_reg.predict(trainX)\n",
    "lin_mse = mean_squared_error(trainY, strength_predictions_ln)\n",
    "lin_rmse = np.sqrt(lin_mse)\n",
    "lin_rmse"
   ]
  },
  {
   "cell_type": "code",
   "execution_count": 21,
   "id": "943e1965",
   "metadata": {},
   "outputs": [
    {
     "data": {
      "text/plain": [
       "SGDRegressor(eta0=0.1, penalty=None)"
      ]
     },
     "execution_count": 21,
     "metadata": {},
     "output_type": "execute_result"
    }
   ],
   "source": [
    "from sklearn.linear_model import SGDRegressor\n",
    "sgd_reg = SGDRegressor(max_iter=1000, tol=1e-3, penalty=None, eta0=0.1)\n",
    "sgd_reg.fit(trainX, trainY)"
   ]
  },
  {
   "cell_type": "code",
   "execution_count": 22,
   "id": "5b440daa",
   "metadata": {},
   "outputs": [
    {
     "data": {
      "text/plain": [
       "1.3921207908156258e+16"
      ]
     },
     "execution_count": 22,
     "metadata": {},
     "output_type": "execute_result"
    }
   ],
   "source": [
    "from sklearn.metrics import mean_squared_error\n",
    "strength_predictions_sgd = sgd_reg.predict(trainX)\n",
    "sgd_mse = mean_squared_error(trainY, strength_predictions_sgd)\n",
    "sgd_rmse = np.sqrt(sgd_mse)\n",
    "sgd_rmse"
   ]
  },
  {
   "cell_type": "code",
   "execution_count": 25,
   "id": "32f9653a",
   "metadata": {},
   "outputs": [
    {
     "name": "stdout",
     "output_type": "stream",
     "text": [
      "lr 0.83\n",
      "lsr 0.76\n",
      "svc -4.989612295113183e+30\n"
     ]
    },
    {
     "name": "stderr",
     "output_type": "stream",
     "text": [
      "C:\\Users\\HP\\.conda\\envs\\cits5508-2022\\lib\\site-packages\\sklearn\\svm\\_base.py:1206: ConvergenceWarning: Liblinear failed to converge, increase the number of iterations.\n",
      "  warnings.warn(\n",
      "C:\\Users\\HP\\.conda\\envs\\cits5508-2022\\lib\\site-packages\\sklearn\\svm\\_base.py:1206: ConvergenceWarning: Liblinear failed to converge, increase the number of iterations.\n",
      "  warnings.warn(\n",
      "C:\\Users\\HP\\.conda\\envs\\cits5508-2022\\lib\\site-packages\\sklearn\\svm\\_base.py:1206: ConvergenceWarning: Liblinear failed to converge, increase the number of iterations.\n",
      "  warnings.warn(\n",
      "C:\\Users\\HP\\.conda\\envs\\cits5508-2022\\lib\\site-packages\\sklearn\\svm\\_base.py:1206: ConvergenceWarning: Liblinear failed to converge, increase the number of iterations.\n",
      "  warnings.warn(\n",
      "C:\\Users\\HP\\.conda\\envs\\cits5508-2022\\lib\\site-packages\\sklearn\\svm\\_base.py:1206: ConvergenceWarning: Liblinear failed to converge, increase the number of iterations.\n",
      "  warnings.warn(\n",
      "C:\\Users\\HP\\.conda\\envs\\cits5508-2022\\lib\\site-packages\\sklearn\\svm\\_base.py:1206: ConvergenceWarning: Liblinear failed to converge, increase the number of iterations.\n",
      "  warnings.warn(\n",
      "C:\\Users\\HP\\.conda\\envs\\cits5508-2022\\lib\\site-packages\\sklearn\\svm\\_base.py:1206: ConvergenceWarning: Liblinear failed to converge, increase the number of iterations.\n",
      "  warnings.warn(\n",
      "C:\\Users\\HP\\.conda\\envs\\cits5508-2022\\lib\\site-packages\\sklearn\\svm\\_base.py:1206: ConvergenceWarning: Liblinear failed to converge, increase the number of iterations.\n",
      "  warnings.warn(\n",
      "C:\\Users\\HP\\.conda\\envs\\cits5508-2022\\lib\\site-packages\\sklearn\\svm\\_base.py:1206: ConvergenceWarning: Liblinear failed to converge, increase the number of iterations.\n",
      "  warnings.warn(\n",
      "C:\\Users\\HP\\.conda\\envs\\cits5508-2022\\lib\\site-packages\\sklearn\\svm\\_base.py:1206: ConvergenceWarning: Liblinear failed to converge, increase the number of iterations.\n",
      "  warnings.warn(\n"
     ]
    }
   ],
   "source": [
    "from sklearn.model_selection import cross_val_score\n",
    "estimators=[('lr', lin_reg),('lsr', svm_reg),('svc', sgd_reg)]\n",
    "for estimator in estimators:\n",
    "    scores = cross_val_score(estimator[1],trainX, trainY,scoring='r2',cv=10)\n",
    "    print(estimator[0],np.round(np.mean(scores),2))"
   ]
  },
  {
   "cell_type": "code",
   "execution_count": 29,
   "id": "ca31e458",
   "metadata": {},
   "outputs": [
    {
     "name": "stderr",
     "output_type": "stream",
     "text": [
      "C:\\Users\\HP\\.conda\\envs\\cits5508-2022\\lib\\site-packages\\sklearn\\svm\\_base.py:1206: ConvergenceWarning: Liblinear failed to converge, increase the number of iterations.\n",
      "  warnings.warn(\n"
     ]
    },
    {
     "data": {
      "text/plain": [
       "VotingRegressor(estimators=[('lr', LinearRegression()),\n",
       "                            ('lsr', LinearSVR(epsilon=1.5)),\n",
       "                            ('svc', SGDRegressor(eta0=0.1, penalty=None))])"
      ]
     },
     "execution_count": 29,
     "metadata": {},
     "output_type": "execute_result"
    }
   ],
   "source": [
    "from sklearn.ensemble import VotingRegressor\n",
    "voting_clf = VotingRegressor(estimators=[('lr', lin_reg),('lsr', svm_reg),('svc', sgd_reg)])\n",
    "voting_clf.fit(trainX, trainY)"
   ]
  },
  {
   "cell_type": "code",
   "execution_count": 30,
   "id": "444c9fc1",
   "metadata": {},
   "outputs": [
    {
     "data": {
      "text/plain": [
       "2876053568216940.0"
      ]
     },
     "execution_count": 30,
     "metadata": {},
     "output_type": "execute_result"
    }
   ],
   "source": [
    "from sklearn.metrics import mean_squared_error\n",
    "vt_predictions = voting_clf.predict(trainX)\n",
    "vt_mse = mean_squared_error(trainY, vt_predictions)\n",
    "vt_rmse = np.sqrt(vt_mse)\n",
    "vt_rmse"
   ]
  },
  {
   "cell_type": "code",
   "execution_count": 31,
   "id": "d5954166",
   "metadata": {},
   "outputs": [
    {
     "name": "stdout",
     "output_type": "stream",
     "text": [
      "LinearRegression 2.4353701147236766\n",
      "LinearSVR 2.493069751509976\n",
      "SGDRegressor 2.15048200819524e+16\n",
      "VotingRegressor 477384204665382.7\n"
     ]
    },
    {
     "name": "stderr",
     "output_type": "stream",
     "text": [
      "C:\\Users\\HP\\.conda\\envs\\cits5508-2022\\lib\\site-packages\\sklearn\\svm\\_base.py:1206: ConvergenceWarning: Liblinear failed to converge, increase the number of iterations.\n",
      "  warnings.warn(\n",
      "C:\\Users\\HP\\.conda\\envs\\cits5508-2022\\lib\\site-packages\\sklearn\\svm\\_base.py:1206: ConvergenceWarning: Liblinear failed to converge, increase the number of iterations.\n",
      "  warnings.warn(\n"
     ]
    }
   ],
   "source": [
    "from sklearn.metrics import accuracy_score\n",
    "for clf in (lin_reg, svm_reg, sgd_reg, voting_clf):\n",
    "    clf.fit(trainX, trainY)\n",
    "    y_pred = clf.predict(testX)\n",
    "    mse = mean_squared_error(testY, y_pred)\n",
    "    rmse = np.sqrt(mse) \n",
    "    print(clf.__class__.__name__, rmse)"
   ]
  },
  {
   "cell_type": "code",
   "execution_count": 32,
   "id": "42553749",
   "metadata": {},
   "outputs": [
    {
     "data": {
      "image/png": "[encoded data removed]",
      "text/plain": [
       "<Figure size 432x288 with 1 Axes>"
      ]
     },
     "metadata": {
      "needs_background": "light"
     },
     "output_type": "display_data"
    }
   ],
   "source": [
    "import matplotlib.pyplot as plt #https://www.mikulskibartosz.name/how-to-visualise-prediction-errors/\n",
    "_, ax = plt.subplots()\n",
    "\n",
    "ax.scatter(x = range(0, testY.size), y=testY, c = 'blue', label = 'Actual', alpha = 0.3)\n",
    "ax.scatter(x = range(0, vt_predictions.size), y=vt_predictions, c = 'red', label = 'Predicted', alpha = 0.3)\n",
    "\n",
    "plt.title('Actual and predicted values')\n",
    "plt.xlabel('Observations')\n",
    "plt.ylabel('Compressive Strength')\n",
    "plt.legend()\n",
    "plt.show()"
   ]
  },
  {
   "cell_type": "markdown",
   "id": "67dc4b77",
   "metadata": {},
   "source": [
    "## Project 2"
   ]
  },
  {
   "cell_type": "code",
   "execution_count": 33,
   "id": "912e2a7a",
   "metadata": {},
   "outputs": [
    {
     "data": {
      "text/html": [
       "<div>\n",
       "<style scoped>\n",
       "    .dataframe tbody tr th:only-of-type {\n",
       "        vertical-align: middle;\n",
       "    }\n",
       "\n",
       "    .dataframe tbody tr th {\n",
       "        vertical-align: top;\n",
       "    }\n",
       "\n",
       "    .dataframe thead th {\n",
       "        text-align: right;\n",
       "    }\n",
       "</style>\n",
       "<table border=\"1\" class=\"dataframe\">\n",
       "  <thead>\n",
       "    <tr style=\"text-align: right;\">\n",
       "      <th></th>\n",
       "      <th>Sex</th>\n",
       "      <th>Length</th>\n",
       "      <th>Diameter</th>\n",
       "      <th>Height</th>\n",
       "      <th>Whole weight</th>\n",
       "      <th>Shucked weight</th>\n",
       "      <th>Viscera weight</th>\n",
       "      <th>Shell weight</th>\n",
       "      <th>Rings</th>\n",
       "    </tr>\n",
       "  </thead>\n",
       "  <tbody>\n",
       "    <tr>\n",
       "      <th>0</th>\n",
       "      <td>M</td>\n",
       "      <td>0.455</td>\n",
       "      <td>0.365</td>\n",
       "      <td>0.095</td>\n",
       "      <td>0.5140</td>\n",
       "      <td>0.2245</td>\n",
       "      <td>0.1010</td>\n",
       "      <td>0.150</td>\n",
       "      <td>15</td>\n",
       "    </tr>\n",
       "    <tr>\n",
       "      <th>1</th>\n",
       "      <td>M</td>\n",
       "      <td>0.350</td>\n",
       "      <td>0.265</td>\n",
       "      <td>0.090</td>\n",
       "      <td>0.2255</td>\n",
       "      <td>0.0995</td>\n",
       "      <td>0.0485</td>\n",
       "      <td>0.070</td>\n",
       "      <td>7</td>\n",
       "    </tr>\n",
       "    <tr>\n",
       "      <th>2</th>\n",
       "      <td>F</td>\n",
       "      <td>0.530</td>\n",
       "      <td>0.420</td>\n",
       "      <td>0.135</td>\n",
       "      <td>0.6770</td>\n",
       "      <td>0.2565</td>\n",
       "      <td>0.1415</td>\n",
       "      <td>0.210</td>\n",
       "      <td>9</td>\n",
       "    </tr>\n",
       "    <tr>\n",
       "      <th>3</th>\n",
       "      <td>M</td>\n",
       "      <td>0.440</td>\n",
       "      <td>0.365</td>\n",
       "      <td>0.125</td>\n",
       "      <td>0.5160</td>\n",
       "      <td>0.2155</td>\n",
       "      <td>0.1140</td>\n",
       "      <td>0.155</td>\n",
       "      <td>10</td>\n",
       "    </tr>\n",
       "    <tr>\n",
       "      <th>4</th>\n",
       "      <td>I</td>\n",
       "      <td>0.330</td>\n",
       "      <td>0.255</td>\n",
       "      <td>0.080</td>\n",
       "      <td>0.2050</td>\n",
       "      <td>0.0895</td>\n",
       "      <td>0.0395</td>\n",
       "      <td>0.055</td>\n",
       "      <td>7</td>\n",
       "    </tr>\n",
       "  </tbody>\n",
       "</table>\n",
       "</div>"
      ],
      "text/plain": [
       "  Sex  Length  Diameter  Height  Whole weight  Shucked weight  Viscera weight  \\\n",
       "0   M   0.455     0.365   0.095        0.5140          0.2245          0.1010   \n",
       "1   M   0.350     0.265   0.090        0.2255          0.0995          0.0485   \n",
       "2   F   0.530     0.420   0.135        0.6770          0.2565          0.1415   \n",
       "3   M   0.440     0.365   0.125        0.5160          0.2155          0.1140   \n",
       "4   I   0.330     0.255   0.080        0.2050          0.0895          0.0395   \n",
       "\n",
       "   Shell weight  Rings  \n",
       "0         0.150     15  \n",
       "1         0.070      7  \n",
       "2         0.210      9  \n",
       "3         0.155     10  \n",
       "4         0.055      7  "
      ]
     },
     "execution_count": 33,
     "metadata": {},
     "output_type": "execute_result"
    }
   ],
   "source": [
    "def load_UCItrain_data(data_path=DATA_PATH): \n",
    " csv_path = os.path.join(data_path, \"abalone.data\")\n",
    " return pd.read_csv(csv_path,header=None)\n",
    "dataframe_UCI = load_UCItrain_data()\n",
    "dataframe_UCI.columns = [\"Sex\", \"Length\", \"Diameter\", \"Height\",\"Whole weight\",\"Shucked weight\",\"Viscera weight\",\"Shell weight\",\"Rings\"]\n",
    "dataframe_UCI.head()"
   ]
  },
  {
   "cell_type": "code",
   "execution_count": 34,
   "id": "1f80679e",
   "metadata": {},
   "outputs": [
    {
     "name": "stdout",
     "output_type": "stream",
     "text": [
      "<class 'pandas.core.frame.DataFrame'>\n",
      "RangeIndex: 4177 entries, 0 to 4176\n",
      "Data columns (total 9 columns):\n",
      " #   Column          Non-Null Count  Dtype  \n",
      "---  ------          --------------  -----  \n",
      " 0   Sex             4177 non-null   object \n",
      " 1   Length          4177 non-null   float64\n",
      " 2   Diameter        4177 non-null   float64\n",
      " 3   Height          4177 non-null   float64\n",
      " 4   Whole weight    4177 non-null   float64\n",
      " 5   Shucked weight  4177 non-null   float64\n",
      " 6   Viscera weight  4177 non-null   float64\n",
      " 7   Shell weight    4177 non-null   float64\n",
      " 8   Rings           4177 non-null   int64  \n",
      "dtypes: float64(7), int64(1), object(1)\n",
      "memory usage: 293.8+ KB\n"
     ]
    }
   ],
   "source": [
    "dataframe_UCI.info()"
   ]
  },
  {
   "cell_type": "code",
   "execution_count": 35,
   "id": "b77129ce",
   "metadata": {},
   "outputs": [
    {
     "data": {
      "text/plain": [
       "(4177, 9)"
      ]
     },
     "execution_count": 35,
     "metadata": {},
     "output_type": "execute_result"
    }
   ],
   "source": [
    "dataframe_UCI.shape"
   ]
  },
  {
   "cell_type": "code",
   "execution_count": 36,
   "id": "d15bd711",
   "metadata": {},
   "outputs": [
    {
     "data": {
      "image/png": "[encoded data removed]",
      "text/plain": [
       "<Figure size 1440x1080 with 9 Axes>"
      ]
     },
     "metadata": {
      "needs_background": "light"
     },
     "output_type": "display_data"
    }
   ],
   "source": [
    "%matplotlib inline \n",
    "import matplotlib.pyplot as plt\n",
    "dataframe_UCI.hist(bins=50, figsize=(20,15))\n",
    "plt.show()"
   ]
  },
  {
   "cell_type": "code",
   "execution_count": 37,
   "id": "f28bbf9f",
   "metadata": {},
   "outputs": [
    {
     "data": {
      "text/plain": [
       "Rings             1.000000\n",
       "Shell weight      0.627574\n",
       "Diameter          0.574660\n",
       "Height            0.557467\n",
       "Length            0.556720\n",
       "Whole weight      0.540390\n",
       "Viscera weight    0.503819\n",
       "Shucked weight    0.420884\n",
       "Name: Rings, dtype: float64"
      ]
     },
     "execution_count": 37,
     "metadata": {},
     "output_type": "execute_result"
    }
   ],
   "source": [
    "corr_matrix = dataframe_UCI.corr()\n",
    "corr_matrix[\"Rings\"].sort_values(ascending=False)"
   ]
  },
  {
   "cell_type": "code",
   "execution_count": 38,
   "id": "282f0f68",
   "metadata": {},
   "outputs": [
    {
     "data": {
      "text/html": [
       "<div>\n",
       "<style scoped>\n",
       "    .dataframe tbody tr th:only-of-type {\n",
       "        vertical-align: middle;\n",
       "    }\n",
       "\n",
       "    .dataframe tbody tr th {\n",
       "        vertical-align: top;\n",
       "    }\n",
       "\n",
       "    .dataframe thead th {\n",
       "        text-align: right;\n",
       "    }\n",
       "</style>\n",
       "<table border=\"1\" class=\"dataframe\">\n",
       "  <thead>\n",
       "    <tr style=\"text-align: right;\">\n",
       "      <th></th>\n",
       "      <th>Sex</th>\n",
       "    </tr>\n",
       "  </thead>\n",
       "  <tbody>\n",
       "    <tr>\n",
       "      <th>0</th>\n",
       "      <td>M</td>\n",
       "    </tr>\n",
       "    <tr>\n",
       "      <th>1</th>\n",
       "      <td>M</td>\n",
       "    </tr>\n",
       "    <tr>\n",
       "      <th>2</th>\n",
       "      <td>F</td>\n",
       "    </tr>\n",
       "    <tr>\n",
       "      <th>3</th>\n",
       "      <td>M</td>\n",
       "    </tr>\n",
       "    <tr>\n",
       "      <th>4</th>\n",
       "      <td>I</td>\n",
       "    </tr>\n",
       "    <tr>\n",
       "      <th>5</th>\n",
       "      <td>I</td>\n",
       "    </tr>\n",
       "    <tr>\n",
       "      <th>6</th>\n",
       "      <td>F</td>\n",
       "    </tr>\n",
       "    <tr>\n",
       "      <th>7</th>\n",
       "      <td>F</td>\n",
       "    </tr>\n",
       "    <tr>\n",
       "      <th>8</th>\n",
       "      <td>M</td>\n",
       "    </tr>\n",
       "    <tr>\n",
       "      <th>9</th>\n",
       "      <td>F</td>\n",
       "    </tr>\n",
       "  </tbody>\n",
       "</table>\n",
       "</div>"
      ],
      "text/plain": [
       "  Sex\n",
       "0   M\n",
       "1   M\n",
       "2   F\n",
       "3   M\n",
       "4   I\n",
       "5   I\n",
       "6   F\n",
       "7   F\n",
       "8   M\n",
       "9   F"
      ]
     },
     "execution_count": 38,
     "metadata": {},
     "output_type": "execute_result"
    }
   ],
   "source": [
    "dataframe_UCI_cat = dataframe_UCI[[\"Sex\"]]\n",
    "dataframe_UCI_cat.head(10)"
   ]
  },
  {
   "cell_type": "code",
   "execution_count": 39,
   "id": "87728b2c",
   "metadata": {},
   "outputs": [
    {
     "data": {
      "text/plain": [
       "array([[2],\n",
       "       [2],\n",
       "       [0],\n",
       "       [2],\n",
       "       [1],\n",
       "       [1],\n",
       "       [0],\n",
       "       [0],\n",
       "       [2],\n",
       "       [0]])"
      ]
     },
     "execution_count": 39,
     "metadata": {},
     "output_type": "execute_result"
    }
   ],
   "source": [
    "from sklearn.preprocessing import OrdinalEncoder\n",
    "ordinal_encoder = OrdinalEncoder(dtype=int)\n",
    "dataframe_UCI_cat_encoded = ordinal_encoder.fit_transform(dataframe_UCI_cat)\n",
    "dataframe_UCI_cat_encoded[:10]"
   ]
  },
  {
   "cell_type": "code",
   "execution_count": 40,
   "id": "4bbf66b7",
   "metadata": {},
   "outputs": [
    {
     "data": {
      "text/plain": [
       "[array(['F', 'I', 'M'], dtype=object)]"
      ]
     },
     "execution_count": 40,
     "metadata": {},
     "output_type": "execute_result"
    }
   ],
   "source": [
    "ordinal_encoder.categories_"
   ]
  },
  {
   "cell_type": "code",
   "execution_count": 41,
   "id": "9ce1deea",
   "metadata": {},
   "outputs": [],
   "source": [
    "dataframe_UCI.insert(0,'Sex_oec',dataframe_UCI_cat_encoded)"
   ]
  },
  {
   "cell_type": "code",
   "execution_count": 42,
   "id": "ddcad381",
   "metadata": {},
   "outputs": [
    {
     "data": {
      "text/html": [
       "<div>\n",
       "<style scoped>\n",
       "    .dataframe tbody tr th:only-of-type {\n",
       "        vertical-align: middle;\n",
       "    }\n",
       "\n",
       "    .dataframe tbody tr th {\n",
       "        vertical-align: top;\n",
       "    }\n",
       "\n",
       "    .dataframe thead th {\n",
       "        text-align: right;\n",
       "    }\n",
       "</style>\n",
       "<table border=\"1\" class=\"dataframe\">\n",
       "  <thead>\n",
       "    <tr style=\"text-align: right;\">\n",
       "      <th></th>\n",
       "      <th>Sex_oec</th>\n",
       "      <th>Sex</th>\n",
       "      <th>Length</th>\n",
       "      <th>Diameter</th>\n",
       "      <th>Height</th>\n",
       "      <th>Whole weight</th>\n",
       "      <th>Shucked weight</th>\n",
       "      <th>Viscera weight</th>\n",
       "      <th>Shell weight</th>\n",
       "      <th>Rings</th>\n",
       "    </tr>\n",
       "  </thead>\n",
       "  <tbody>\n",
       "    <tr>\n",
       "      <th>0</th>\n",
       "      <td>2</td>\n",
       "      <td>M</td>\n",
       "      <td>0.455</td>\n",
       "      <td>0.365</td>\n",
       "      <td>0.095</td>\n",
       "      <td>0.5140</td>\n",
       "      <td>0.2245</td>\n",
       "      <td>0.1010</td>\n",
       "      <td>0.150</td>\n",
       "      <td>15</td>\n",
       "    </tr>\n",
       "    <tr>\n",
       "      <th>1</th>\n",
       "      <td>2</td>\n",
       "      <td>M</td>\n",
       "      <td>0.350</td>\n",
       "      <td>0.265</td>\n",
       "      <td>0.090</td>\n",
       "      <td>0.2255</td>\n",
       "      <td>0.0995</td>\n",
       "      <td>0.0485</td>\n",
       "      <td>0.070</td>\n",
       "      <td>7</td>\n",
       "    </tr>\n",
       "    <tr>\n",
       "      <th>2</th>\n",
       "      <td>0</td>\n",
       "      <td>F</td>\n",
       "      <td>0.530</td>\n",
       "      <td>0.420</td>\n",
       "      <td>0.135</td>\n",
       "      <td>0.6770</td>\n",
       "      <td>0.2565</td>\n",
       "      <td>0.1415</td>\n",
       "      <td>0.210</td>\n",
       "      <td>9</td>\n",
       "    </tr>\n",
       "    <tr>\n",
       "      <th>3</th>\n",
       "      <td>2</td>\n",
       "      <td>M</td>\n",
       "      <td>0.440</td>\n",
       "      <td>0.365</td>\n",
       "      <td>0.125</td>\n",
       "      <td>0.5160</td>\n",
       "      <td>0.2155</td>\n",
       "      <td>0.1140</td>\n",
       "      <td>0.155</td>\n",
       "      <td>10</td>\n",
       "    </tr>\n",
       "    <tr>\n",
       "      <th>4</th>\n",
       "      <td>1</td>\n",
       "      <td>I</td>\n",
       "      <td>0.330</td>\n",
       "      <td>0.255</td>\n",
       "      <td>0.080</td>\n",
       "      <td>0.2050</td>\n",
       "      <td>0.0895</td>\n",
       "      <td>0.0395</td>\n",
       "      <td>0.055</td>\n",
       "      <td>7</td>\n",
       "    </tr>\n",
       "  </tbody>\n",
       "</table>\n",
       "</div>"
      ],
      "text/plain": [
       "   Sex_oec Sex  Length  Diameter  Height  Whole weight  Shucked weight  \\\n",
       "0        2   M   0.455     0.365   0.095        0.5140          0.2245   \n",
       "1        2   M   0.350     0.265   0.090        0.2255          0.0995   \n",
       "2        0   F   0.530     0.420   0.135        0.6770          0.2565   \n",
       "3        2   M   0.440     0.365   0.125        0.5160          0.2155   \n",
       "4        1   I   0.330     0.255   0.080        0.2050          0.0895   \n",
       "\n",
       "   Viscera weight  Shell weight  Rings  \n",
       "0          0.1010         0.150     15  \n",
       "1          0.0485         0.070      7  \n",
       "2          0.1415         0.210      9  \n",
       "3          0.1140         0.155     10  \n",
       "4          0.0395         0.055      7  "
      ]
     },
     "execution_count": 42,
     "metadata": {},
     "output_type": "execute_result"
    }
   ],
   "source": [
    "dataframe_UCI.head()"
   ]
  },
  {
   "cell_type": "code",
   "execution_count": 43,
   "id": "6c7c0ef6",
   "metadata": {},
   "outputs": [],
   "source": [
    "df_dataframe_UCI = dataframe_UCI.drop(columns=['Sex'])"
   ]
  },
  {
   "cell_type": "code",
   "execution_count": 44,
   "id": "26f59276",
   "metadata": {},
   "outputs": [
    {
     "data": {
      "text/html": [
       "<style type=\"text/css\">\n",
       "#T_e4f3b_row0_col0, #T_e4f3b_row1_col1, #T_e4f3b_row2_col2, #T_e4f3b_row3_col3, #T_e4f3b_row4_col4, #T_e4f3b_row5_col5, #T_e4f3b_row6_col6, #T_e4f3b_row7_col7, #T_e4f3b_row8_col8 {\n",
       "  background-color: #08306b;\n",
       "  color: #f1f1f1;\n",
       "}\n",
       "#T_e4f3b_row0_col1, #T_e4f3b_row0_col2, #T_e4f3b_row0_col3, #T_e4f3b_row0_col4, #T_e4f3b_row0_col5, #T_e4f3b_row0_col6, #T_e4f3b_row0_col7, #T_e4f3b_row0_col8, #T_e4f3b_row2_col0, #T_e4f3b_row3_col0 {\n",
       "  background-color: #f7fbff;\n",
       "  color: #000000;\n",
       "}\n",
       "#T_e4f3b_row1_col0, #T_e4f3b_row7_col0, #T_e4f3b_row8_col0 {\n",
       "  background-color: #f6faff;\n",
       "  color: #000000;\n",
       "}\n",
       "#T_e4f3b_row1_col2, #T_e4f3b_row2_col1 {\n",
       "  background-color: #083370;\n",
       "  color: #f1f1f1;\n",
       "}\n",
       "#T_e4f3b_row1_col3, #T_e4f3b_row3_col1 {\n",
       "  background-color: #105ba4;\n",
       "  color: #f1f1f1;\n",
       "}\n",
       "#T_e4f3b_row1_col4, #T_e4f3b_row2_col4, #T_e4f3b_row4_col1, #T_e4f3b_row4_col2 {\n",
       "  background-color: #084387;\n",
       "  color: #f1f1f1;\n",
       "}\n",
       "#T_e4f3b_row1_col5, #T_e4f3b_row5_col2 {\n",
       "  background-color: #084b93;\n",
       "  color: #f1f1f1;\n",
       "}\n",
       "#T_e4f3b_row1_col6, #T_e4f3b_row2_col6, #T_e4f3b_row6_col2 {\n",
       "  background-color: #084990;\n",
       "  color: #f1f1f1;\n",
       "}\n",
       "#T_e4f3b_row1_col7, #T_e4f3b_row5_col1, #T_e4f3b_row7_col1 {\n",
       "  background-color: #084a91;\n",
       "  color: #f1f1f1;\n",
       "}\n",
       "#T_e4f3b_row1_col8, #T_e4f3b_row3_col8, #T_e4f3b_row8_col1 {\n",
       "  background-color: #539ecd;\n",
       "  color: #f1f1f1;\n",
       "}\n",
       "#T_e4f3b_row2_col3, #T_e4f3b_row3_col2 {\n",
       "  background-color: #0e59a2;\n",
       "  color: #f1f1f1;\n",
       "}\n",
       "#T_e4f3b_row2_col5 {\n",
       "  background-color: #084c95;\n",
       "  color: #f1f1f1;\n",
       "}\n",
       "#T_e4f3b_row2_col7, #T_e4f3b_row6_col1, #T_e4f3b_row7_col2 {\n",
       "  background-color: #08488e;\n",
       "  color: #f1f1f1;\n",
       "}\n",
       "#T_e4f3b_row2_col8 {\n",
       "  background-color: #4e9acb;\n",
       "  color: #f1f1f1;\n",
       "}\n",
       "#T_e4f3b_row3_col4, #T_e4f3b_row3_col7 {\n",
       "  background-color: #125ea6;\n",
       "  color: #f1f1f1;\n",
       "}\n",
       "#T_e4f3b_row3_col5 {\n",
       "  background-color: #1c6ab0;\n",
       "  color: #f1f1f1;\n",
       "}\n",
       "#T_e4f3b_row3_col6 {\n",
       "  background-color: #1663aa;\n",
       "  color: #f1f1f1;\n",
       "}\n",
       "#T_e4f3b_row4_col0 {\n",
       "  background-color: #f3f8fe;\n",
       "  color: #000000;\n",
       "}\n",
       "#T_e4f3b_row4_col3, #T_e4f3b_row7_col3 {\n",
       "  background-color: #125da6;\n",
       "  color: #f1f1f1;\n",
       "}\n",
       "#T_e4f3b_row4_col5, #T_e4f3b_row5_col4 {\n",
       "  background-color: #083776;\n",
       "  color: #f1f1f1;\n",
       "}\n",
       "#T_e4f3b_row4_col6, #T_e4f3b_row6_col4 {\n",
       "  background-color: #083877;\n",
       "  color: #f1f1f1;\n",
       "}\n",
       "#T_e4f3b_row4_col7, #T_e4f3b_row7_col4 {\n",
       "  background-color: #083b7c;\n",
       "  color: #f1f1f1;\n",
       "}\n",
       "#T_e4f3b_row4_col8 {\n",
       "  background-color: #58a1cf;\n",
       "  color: #f1f1f1;\n",
       "}\n",
       "#T_e4f3b_row5_col0 {\n",
       "  background-color: #f0f6fd;\n",
       "  color: #000000;\n",
       "}\n",
       "#T_e4f3b_row5_col3 {\n",
       "  background-color: #1a68ae;\n",
       "  color: #f1f1f1;\n",
       "}\n",
       "#T_e4f3b_row5_col6 {\n",
       "  background-color: #084184;\n",
       "  color: #f1f1f1;\n",
       "}\n",
       "#T_e4f3b_row5_col7 {\n",
       "  background-color: #084e98;\n",
       "  color: #f1f1f1;\n",
       "}\n",
       "#T_e4f3b_row5_col8 {\n",
       "  background-color: #84bcdb;\n",
       "  color: #000000;\n",
       "}\n",
       "#T_e4f3b_row6_col0 {\n",
       "  background-color: #f5fafe;\n",
       "  color: #000000;\n",
       "}\n",
       "#T_e4f3b_row6_col3 {\n",
       "  background-color: #1562a9;\n",
       "  color: #f1f1f1;\n",
       "}\n",
       "#T_e4f3b_row6_col5 {\n",
       "  background-color: #084285;\n",
       "  color: #f1f1f1;\n",
       "}\n",
       "#T_e4f3b_row6_col7, #T_e4f3b_row7_col6 {\n",
       "  background-color: #08478d;\n",
       "  color: #f1f1f1;\n",
       "}\n",
       "#T_e4f3b_row6_col8 {\n",
       "  background-color: #64a9d3;\n",
       "  color: #f1f1f1;\n",
       "}\n",
       "#T_e4f3b_row7_col5 {\n",
       "  background-color: #084f99;\n",
       "  color: #f1f1f1;\n",
       "}\n",
       "#T_e4f3b_row7_col8, #T_e4f3b_row8_col7 {\n",
       "  background-color: #3e8ec4;\n",
       "  color: #f1f1f1;\n",
       "}\n",
       "#T_e4f3b_row8_col2 {\n",
       "  background-color: #4d99ca;\n",
       "  color: #f1f1f1;\n",
       "}\n",
       "#T_e4f3b_row8_col3 {\n",
       "  background-color: #529dcc;\n",
       "  color: #f1f1f1;\n",
       "}\n",
       "#T_e4f3b_row8_col4 {\n",
       "  background-color: #5ba3d0;\n",
       "  color: #f1f1f1;\n",
       "}\n",
       "#T_e4f3b_row8_col5 {\n",
       "  background-color: #8cc0dd;\n",
       "  color: #000000;\n",
       "}\n",
       "#T_e4f3b_row8_col6 {\n",
       "  background-color: #65aad4;\n",
       "  color: #f1f1f1;\n",
       "}\n",
       "</style>\n",
       "<table id=\"T_e4f3b\">\n",
       "  <thead>\n",
       "    <tr>\n",
       "      <th class=\"blank level0\" >&nbsp;</th>\n",
       "      <th id=\"T_e4f3b_level0_col0\" class=\"col_heading level0 col0\" >Sex_oec</th>\n",
       "      <th id=\"T_e4f3b_level0_col1\" class=\"col_heading level0 col1\" >Length</th>\n",
       "      <th id=\"T_e4f3b_level0_col2\" class=\"col_heading level0 col2\" >Diameter</th>\n",
       "      <th id=\"T_e4f3b_level0_col3\" class=\"col_heading level0 col3\" >Height</th>\n",
       "      <th id=\"T_e4f3b_level0_col4\" class=\"col_heading level0 col4\" >Whole weight</th>\n",
       "      <th id=\"T_e4f3b_level0_col5\" class=\"col_heading level0 col5\" >Shucked weight</th>\n",
       "      <th id=\"T_e4f3b_level0_col6\" class=\"col_heading level0 col6\" >Viscera weight</th>\n",
       "      <th id=\"T_e4f3b_level0_col7\" class=\"col_heading level0 col7\" >Shell weight</th>\n",
       "      <th id=\"T_e4f3b_level0_col8\" class=\"col_heading level0 col8\" >Rings</th>\n",
       "    </tr>\n",
       "  </thead>\n",
       "  <tbody>\n",
       "    <tr>\n",
       "      <th id=\"T_e4f3b_level0_row0\" class=\"row_heading level0 row0\" >Sex_oec</th>\n",
       "      <td id=\"T_e4f3b_row0_col0\" class=\"data row0 col0\" >1.000000</td>\n",
       "      <td id=\"T_e4f3b_row0_col1\" class=\"data row0 col1\" >-0.036066</td>\n",
       "      <td id=\"T_e4f3b_row0_col2\" class=\"data row0 col2\" >-0.038874</td>\n",
       "      <td id=\"T_e4f3b_row0_col3\" class=\"data row0 col3\" >-0.042077</td>\n",
       "      <td id=\"T_e4f3b_row0_col4\" class=\"data row0 col4\" >-0.021391</td>\n",
       "      <td id=\"T_e4f3b_row0_col5\" class=\"data row0 col5\" >-0.001373</td>\n",
       "      <td id=\"T_e4f3b_row0_col6\" class=\"data row0 col6\" >-0.032067</td>\n",
       "      <td id=\"T_e4f3b_row0_col7\" class=\"data row0 col7\" >-0.034854</td>\n",
       "      <td id=\"T_e4f3b_row0_col8\" class=\"data row0 col8\" >-0.034627</td>\n",
       "    </tr>\n",
       "    <tr>\n",
       "      <th id=\"T_e4f3b_level0_row1\" class=\"row_heading level0 row1\" >Length</th>\n",
       "      <td id=\"T_e4f3b_row1_col0\" class=\"data row1 col0\" >-0.036066</td>\n",
       "      <td id=\"T_e4f3b_row1_col1\" class=\"data row1 col1\" >1.000000</td>\n",
       "      <td id=\"T_e4f3b_row1_col2\" class=\"data row1 col2\" >0.986812</td>\n",
       "      <td id=\"T_e4f3b_row1_col3\" class=\"data row1 col3\" >0.827554</td>\n",
       "      <td id=\"T_e4f3b_row1_col4\" class=\"data row1 col4\" >0.925261</td>\n",
       "      <td id=\"T_e4f3b_row1_col5\" class=\"data row1 col5\" >0.897914</td>\n",
       "      <td id=\"T_e4f3b_row1_col6\" class=\"data row1 col6\" >0.903018</td>\n",
       "      <td id=\"T_e4f3b_row1_col7\" class=\"data row1 col7\" >0.897706</td>\n",
       "      <td id=\"T_e4f3b_row1_col8\" class=\"data row1 col8\" >0.556720</td>\n",
       "    </tr>\n",
       "    <tr>\n",
       "      <th id=\"T_e4f3b_level0_row2\" class=\"row_heading level0 row2\" >Diameter</th>\n",
       "      <td id=\"T_e4f3b_row2_col0\" class=\"data row2 col0\" >-0.038874</td>\n",
       "      <td id=\"T_e4f3b_row2_col1\" class=\"data row2 col1\" >0.986812</td>\n",
       "      <td id=\"T_e4f3b_row2_col2\" class=\"data row2 col2\" >1.000000</td>\n",
       "      <td id=\"T_e4f3b_row2_col3\" class=\"data row2 col3\" >0.833684</td>\n",
       "      <td id=\"T_e4f3b_row2_col4\" class=\"data row2 col4\" >0.925452</td>\n",
       "      <td id=\"T_e4f3b_row2_col5\" class=\"data row2 col5\" >0.893162</td>\n",
       "      <td id=\"T_e4f3b_row2_col6\" class=\"data row2 col6\" >0.899724</td>\n",
       "      <td id=\"T_e4f3b_row2_col7\" class=\"data row2 col7\" >0.905330</td>\n",
       "      <td id=\"T_e4f3b_row2_col8\" class=\"data row2 col8\" >0.574660</td>\n",
       "    </tr>\n",
       "    <tr>\n",
       "      <th id=\"T_e4f3b_level0_row3\" class=\"row_heading level0 row3\" >Height</th>\n",
       "      <td id=\"T_e4f3b_row3_col0\" class=\"data row3 col0\" >-0.042077</td>\n",
       "      <td id=\"T_e4f3b_row3_col1\" class=\"data row3 col1\" >0.827554</td>\n",
       "      <td id=\"T_e4f3b_row3_col2\" class=\"data row3 col2\" >0.833684</td>\n",
       "      <td id=\"T_e4f3b_row3_col3\" class=\"data row3 col3\" >1.000000</td>\n",
       "      <td id=\"T_e4f3b_row3_col4\" class=\"data row3 col4\" >0.819221</td>\n",
       "      <td id=\"T_e4f3b_row3_col5\" class=\"data row3 col5\" >0.774972</td>\n",
       "      <td id=\"T_e4f3b_row3_col6\" class=\"data row3 col6\" >0.798319</td>\n",
       "      <td id=\"T_e4f3b_row3_col7\" class=\"data row3 col7\" >0.817338</td>\n",
       "      <td id=\"T_e4f3b_row3_col8\" class=\"data row3 col8\" >0.557467</td>\n",
       "    </tr>\n",
       "    <tr>\n",
       "      <th id=\"T_e4f3b_level0_row4\" class=\"row_heading level0 row4\" >Whole weight</th>\n",
       "      <td id=\"T_e4f3b_row4_col0\" class=\"data row4 col0\" >-0.021391</td>\n",
       "      <td id=\"T_e4f3b_row4_col1\" class=\"data row4 col1\" >0.925261</td>\n",
       "      <td id=\"T_e4f3b_row4_col2\" class=\"data row4 col2\" >0.925452</td>\n",
       "      <td id=\"T_e4f3b_row4_col3\" class=\"data row4 col3\" >0.819221</td>\n",
       "      <td id=\"T_e4f3b_row4_col4\" class=\"data row4 col4\" >1.000000</td>\n",
       "      <td id=\"T_e4f3b_row4_col5\" class=\"data row4 col5\" >0.969405</td>\n",
       "      <td id=\"T_e4f3b_row4_col6\" class=\"data row4 col6\" >0.966375</td>\n",
       "      <td id=\"T_e4f3b_row4_col7\" class=\"data row4 col7\" >0.955355</td>\n",
       "      <td id=\"T_e4f3b_row4_col8\" class=\"data row4 col8\" >0.540390</td>\n",
       "    </tr>\n",
       "    <tr>\n",
       "      <th id=\"T_e4f3b_level0_row5\" class=\"row_heading level0 row5\" >Shucked weight</th>\n",
       "      <td id=\"T_e4f3b_row5_col0\" class=\"data row5 col0\" >-0.001373</td>\n",
       "      <td id=\"T_e4f3b_row5_col1\" class=\"data row5 col1\" >0.897914</td>\n",
       "      <td id=\"T_e4f3b_row5_col2\" class=\"data row5 col2\" >0.893162</td>\n",
       "      <td id=\"T_e4f3b_row5_col3\" class=\"data row5 col3\" >0.774972</td>\n",
       "      <td id=\"T_e4f3b_row5_col4\" class=\"data row5 col4\" >0.969405</td>\n",
       "      <td id=\"T_e4f3b_row5_col5\" class=\"data row5 col5\" >1.000000</td>\n",
       "      <td id=\"T_e4f3b_row5_col6\" class=\"data row5 col6\" >0.931961</td>\n",
       "      <td id=\"T_e4f3b_row5_col7\" class=\"data row5 col7\" >0.882617</td>\n",
       "      <td id=\"T_e4f3b_row5_col8\" class=\"data row5 col8\" >0.420884</td>\n",
       "    </tr>\n",
       "    <tr>\n",
       "      <th id=\"T_e4f3b_level0_row6\" class=\"row_heading level0 row6\" >Viscera weight</th>\n",
       "      <td id=\"T_e4f3b_row6_col0\" class=\"data row6 col0\" >-0.032067</td>\n",
       "      <td id=\"T_e4f3b_row6_col1\" class=\"data row6 col1\" >0.903018</td>\n",
       "      <td id=\"T_e4f3b_row6_col2\" class=\"data row6 col2\" >0.899724</td>\n",
       "      <td id=\"T_e4f3b_row6_col3\" class=\"data row6 col3\" >0.798319</td>\n",
       "      <td id=\"T_e4f3b_row6_col4\" class=\"data row6 col4\" >0.966375</td>\n",
       "      <td id=\"T_e4f3b_row6_col5\" class=\"data row6 col5\" >0.931961</td>\n",
       "      <td id=\"T_e4f3b_row6_col6\" class=\"data row6 col6\" >1.000000</td>\n",
       "      <td id=\"T_e4f3b_row6_col7\" class=\"data row6 col7\" >0.907656</td>\n",
       "      <td id=\"T_e4f3b_row6_col8\" class=\"data row6 col8\" >0.503819</td>\n",
       "    </tr>\n",
       "    <tr>\n",
       "      <th id=\"T_e4f3b_level0_row7\" class=\"row_heading level0 row7\" >Shell weight</th>\n",
       "      <td id=\"T_e4f3b_row7_col0\" class=\"data row7 col0\" >-0.034854</td>\n",
       "      <td id=\"T_e4f3b_row7_col1\" class=\"data row7 col1\" >0.897706</td>\n",
       "      <td id=\"T_e4f3b_row7_col2\" class=\"data row7 col2\" >0.905330</td>\n",
       "      <td id=\"T_e4f3b_row7_col3\" class=\"data row7 col3\" >0.817338</td>\n",
       "      <td id=\"T_e4f3b_row7_col4\" class=\"data row7 col4\" >0.955355</td>\n",
       "      <td id=\"T_e4f3b_row7_col5\" class=\"data row7 col5\" >0.882617</td>\n",
       "      <td id=\"T_e4f3b_row7_col6\" class=\"data row7 col6\" >0.907656</td>\n",
       "      <td id=\"T_e4f3b_row7_col7\" class=\"data row7 col7\" >1.000000</td>\n",
       "      <td id=\"T_e4f3b_row7_col8\" class=\"data row7 col8\" >0.627574</td>\n",
       "    </tr>\n",
       "    <tr>\n",
       "      <th id=\"T_e4f3b_level0_row8\" class=\"row_heading level0 row8\" >Rings</th>\n",
       "      <td id=\"T_e4f3b_row8_col0\" class=\"data row8 col0\" >-0.034627</td>\n",
       "      <td id=\"T_e4f3b_row8_col1\" class=\"data row8 col1\" >0.556720</td>\n",
       "      <td id=\"T_e4f3b_row8_col2\" class=\"data row8 col2\" >0.574660</td>\n",
       "      <td id=\"T_e4f3b_row8_col3\" class=\"data row8 col3\" >0.557467</td>\n",
       "      <td id=\"T_e4f3b_row8_col4\" class=\"data row8 col4\" >0.540390</td>\n",
       "      <td id=\"T_e4f3b_row8_col5\" class=\"data row8 col5\" >0.420884</td>\n",
       "      <td id=\"T_e4f3b_row8_col6\" class=\"data row8 col6\" >0.503819</td>\n",
       "      <td id=\"T_e4f3b_row8_col7\" class=\"data row8 col7\" >0.627574</td>\n",
       "      <td id=\"T_e4f3b_row8_col8\" class=\"data row8 col8\" >1.000000</td>\n",
       "    </tr>\n",
       "  </tbody>\n",
       "</table>\n"
      ],
      "text/plain": [
       "<pandas.io.formats.style.Styler at 0x1794ecc7070>"
      ]
     },
     "execution_count": 44,
     "metadata": {},
     "output_type": "execute_result"
    }
   ],
   "source": [
    "df_dataframe_UCI.corr().style.background_gradient(cmap=\"Blues\")"
   ]
  },
  {
   "cell_type": "code",
   "execution_count": 45,
   "id": "e6d4a46d",
   "metadata": {},
   "outputs": [
    {
     "data": {
      "text/plain": [
       "Rings             1.000000\n",
       "Shell weight      0.627574\n",
       "Diameter          0.574660\n",
       "Height            0.557467\n",
       "Length            0.556720\n",
       "Whole weight      0.540390\n",
       "Viscera weight    0.503819\n",
       "Shucked weight    0.420884\n",
       "Sex_oec          -0.034627\n",
       "Name: Rings, dtype: float64"
      ]
     },
     "execution_count": 45,
     "metadata": {},
     "output_type": "execute_result"
    }
   ],
   "source": [
    "corr_matrix = df_dataframe_UCI.corr()\n",
    "corr_matrix[\"Rings\"].sort_values(ascending=False)"
   ]
  },
  {
   "cell_type": "code",
   "execution_count": 46,
   "id": "af79b97c",
   "metadata": {},
   "outputs": [],
   "source": [
    "x_UCI=df_dataframe_UCI.drop(\"Rings\",axis=1)\n",
    "y_UCI=df_dataframe_UCI[\"Rings\"]"
   ]
  },
  {
   "cell_type": "code",
   "execution_count": 47,
   "id": "1e30a9cb",
   "metadata": {},
   "outputs": [],
   "source": [
    "from sklearn.model_selection import train_test_split\n",
    "trainX_UCI, testX_UCI, trainY_UCI, testY_UCI = train_test_split(x_UCI, y_UCI, test_size = 0.15)"
   ]
  },
  {
   "cell_type": "code",
   "execution_count": 51,
   "id": "34d08770",
   "metadata": {},
   "outputs": [
    {
     "data": {
      "text/plain": [
       "2.3494714522571023"
      ]
     },
     "execution_count": 51,
     "metadata": {},
     "output_type": "execute_result"
    }
   ],
   "source": [
    "from sklearn.ensemble import RandomForestRegressor\n",
    "rnd_clf_UCI = RandomForestRegressor(n_estimators=500, max_leaf_nodes=16, n_jobs=-1)\n",
    "rnd_clf_UCI.fit(trainX_UCI, trainY_UCI)\n",
    "y_pred_rf_UCI = rnd_clf_UCI.predict(testX_UCI)\n",
    "from sklearn.metrics import mean_squared_error\n",
    "rnd_mse = mean_squared_error(testY_UCI, y_pred_rf_UCI)\n",
    "rnd_rmse = np.sqrt(rnd_mse)\n",
    "rnd_rmse"
   ]
  },
  {
   "cell_type": "markdown",
   "id": "092abe2c",
   "metadata": {},
   "source": [
    "The RMSE is 2.35 approximately."
   ]
  },
  {
   "cell_type": "code",
   "execution_count": 182,
   "id": "3bba4834",
   "metadata": {},
   "outputs": [
    {
     "name": "stdout",
     "output_type": "stream",
     "text": [
      "('Sex', 0.004275465998400281)\n",
      "('Length', 0.005034393370490569)\n",
      "('Diameter', 0.012610833878638636)\n",
      "('Height', 0.008075082418250102)\n",
      "('Whole weight', 0.01989412027191281)\n",
      "('Shucked weight', 0.13651899194070685)\n",
      "('Viscera weight', 0.007832675145818098)\n",
      "('Shell weight', 0.8057584369757825)\n"
     ]
    }
   ],
   "source": [
    "feat_labels = [\"Sex\", \"Length\", \"Diameter\", \"Height\",\"Whole weight\",\"Shucked weight\",\"Viscera weight\",\"Shell weight\",\"Rings\"]\n",
    "for feature in zip(feat_labels, rnd_clf_UCI.feature_importances_):\n",
    "    print(feature)"
   ]
  },
  {
   "cell_type": "code",
   "execution_count": 183,
   "id": "013b75f1",
   "metadata": {},
   "outputs": [
    {
     "name": "stdout",
     "output_type": "stream",
     "text": [
      "Sex_oec 0.004275465998400281\n",
      "Length 0.005034393370490569\n",
      "Diameter 0.012610833878638636\n",
      "Height 0.008075082418250102\n",
      "Whole weight 0.01989412027191281\n",
      "Shucked weight 0.13651899194070685\n",
      "Viscera weight 0.007832675145818098\n",
      "Shell weight 0.8057584369757825\n"
     ]
    }
   ],
   "source": [
    "for name, score in zip(df_dataframe_UCI, rnd_clf_UCI.feature_importances_):\n",
    "    print(name, score)"
   ]
  },
  {
   "cell_type": "code",
   "execution_count": 184,
   "id": "c72bee22",
   "metadata": {},
   "outputs": [
    {
     "data": {
      "text/plain": [
       "SelectFromModel(estimator=RandomForestRegressor(max_leaf_nodes=16,\n",
       "                                                n_estimators=500, n_jobs=-1),\n",
       "                threshold=0.15)"
      ]
     },
     "execution_count": 184,
     "metadata": {},
     "output_type": "execute_result"
    }
   ],
   "source": [
    "from sklearn.feature_selection import SelectFromModel\n",
    "sfm = SelectFromModel(rnd_clf_UCI, threshold=0.15)\n",
    "sfm.fit(trainX_UCI, trainY_UCI)"
   ]
  },
  {
   "cell_type": "code",
   "execution_count": 185,
   "id": "7b808c11",
   "metadata": {},
   "outputs": [
    {
     "name": "stdout",
     "output_type": "stream",
     "text": [
      "Shell weight\n"
     ]
    }
   ],
   "source": [
    "for feature_list_index in sfm.get_support(indices=True):\n",
    "    print(feat_labels[feature_list_index])"
   ]
  },
  {
   "cell_type": "markdown",
   "id": "dccd2378",
   "metadata": {},
   "source": [
    "Before select the features with more than 5% importance there was all 8 features.After selectmodel used, there is only one feature- Shell weight. Its importance is more than 80% as we can \"Shell weight 0.8057584369757825\"."
   ]
  },
  {
   "cell_type": "code",
   "execution_count": 186,
   "id": "50cd818c",
   "metadata": {},
   "outputs": [],
   "source": [
    "X_important_train = sfm.transform(trainX_UCI)\n",
    "X_important_test = sfm.transform(testX_UCI)"
   ]
  },
  {
   "cell_type": "code",
   "execution_count": 189,
   "id": "3e3e1b85",
   "metadata": {},
   "outputs": [
    {
     "data": {
      "text/plain": [
       "RandomForestRegressor(max_leaf_nodes=16, n_estimators=500, n_jobs=-1)"
      ]
     },
     "execution_count": 189,
     "metadata": {},
     "output_type": "execute_result"
    }
   ],
   "source": [
    "rnd_clf_UCI_imp_feature = RandomForestRegressor(n_estimators=500, max_leaf_nodes=16, n_jobs=-1)\n",
    "rnd_clf_UCI_imp_feature.fit(X_important_train, trainY_UCI)"
   ]
  },
  {
   "cell_type": "code",
   "execution_count": 190,
   "id": "71c35cd4",
   "metadata": {},
   "outputs": [
    {
     "data": {
      "text/plain": [
       "2.3785200890151086"
      ]
     },
     "execution_count": 190,
     "metadata": {},
     "output_type": "execute_result"
    }
   ],
   "source": [
    "y_pred_rf_UCI_imp = rnd_clf_UCI_imp_feature.predict(X_important_test)\n",
    "\n",
    "rnd_mse_imp = mean_squared_error(testY_UCI, y_pred_rf_UCI_imp)\n",
    "rnd_rmse_imp = np.sqrt(rnd_mse_imp)\n",
    "rnd_rmse_imp"
   ]
  },
  {
   "cell_type": "code",
   "execution_count": 193,
   "id": "10d7957a",
   "metadata": {},
   "outputs": [
    {
     "data": {
      "image/png": "[encoded data removed]",
      "text/plain": [
       "<Figure size 432x288 with 1 Axes>"
      ]
     },
     "metadata": {
      "needs_background": "light"
     },
     "output_type": "display_data"
    }
   ],
   "source": [
    "import matplotlib.pyplot as plt #https://www.mikulskibartosz.name/how-to-visualise-prediction-errors/\n",
    "_, ax = plt.subplots()\n",
    "\n",
    "ax.scatter(x = range(0, testY_UCI.size), y=testY_UCI, c = 'blue', label = 'Actual', alpha = 0.3)\n",
    "ax.scatter(x = range(0, y_pred_rf_UCI.size), y=y_pred_rf_UCI, c = 'red', label = 'Predicted', alpha = 0.3)\n",
    "\n",
    "plt.title('Actual and predicted values')\n",
    "plt.xlabel('Observations')\n",
    "plt.ylabel('Rings')\n",
    "plt.legend()\n",
    "plt.show()"
   ]
  },
  {
   "cell_type": "code",
   "execution_count": 192,
   "id": "db3f2186",
   "metadata": {},
   "outputs": [
    {
     "data": {
      "image/png": "[encoded data removed]",
      "text/plain": [
       "<Figure size 432x288 with 1 Axes>"
      ]
     },
     "metadata": {
      "needs_background": "light"
     },
     "output_type": "display_data"
    }
   ],
   "source": [
    "import matplotlib.pyplot as plt #https://www.mikulskibartosz.name/how-to-visualise-prediction-errors/\n",
    "_, ax = plt.subplots()\n",
    "\n",
    "ax.scatter(x = range(0, testY_UCI.size), y=testY_UCI, c = 'blue', label = 'Actual', alpha = 0.3)\n",
    "ax.scatter(x = range(0, y_pred_rf_UCI_imp.size), y=y_pred_rf_UCI_imp, c = 'red', label = 'Predicted', alpha = 0.3)\n",
    "\n",
    "plt.title('Actual and predicted values')\n",
    "plt.xlabel('Observations')\n",
    "plt.ylabel('Rings')\n",
    "plt.legend()\n",
    "plt.show()"
   ]
  },
  {
   "cell_type": "code",
   "execution_count": 195,
   "id": "5905e37f",
   "metadata": {},
   "outputs": [
    {
     "data": {
      "text/plain": [
       "2.1946442361231147"
      ]
     },
     "execution_count": 195,
     "metadata": {},
     "output_type": "execute_result"
    }
   ],
   "source": [
    "from sklearn.ensemble import BaggingRegressor\n",
    "from sklearn.tree import DecisionTreeRegressor\n",
    "bag_clf = BaggingRegressor(DecisionTreeRegressor(splitter=\"random\", max_leaf_nodes=16),n_estimators=500, max_samples=1.0, bootstrap=True, n_jobs=-1)\n",
    "bag_clf.fit(trainX_UCI, trainY_UCI)\n",
    "y_pred_bag = bag_clf.predict(testX_UCI)\n",
    "rnd_mse_bag = mean_squared_error(testY_UCI, y_pred_bag)\n",
    "rnd_rmse_bag = np.sqrt(rnd_mse_bag)\n",
    "rnd_rmse_bag"
   ]
  },
  {
   "cell_type": "markdown",
   "id": "ff65659a",
   "metadata": {},
   "source": [
    "The first random forest regressor RMSE was 2.35 and the bagging regressor RMSE is 2.19."
   ]
  }
 ],
 "metadata": {
  "kernelspec": {
   "display_name": "Python 3 (ipykernel)",
   "language": "python",
   "name": "python3"
  },
  "language_info": {
   "codemirror_mode": {
    "name": "ipython",
    "version": 3
   },
   "file_extension": ".py",
   "mimetype": "text/x-python",
   "name": "python",
   "nbconvert_exporter": "python",
   "pygments_lexer": "ipython3",
   "version": "3.8.5"
  }
 },
 "nbformat": 4,
 "nbformat_minor": 5
}
